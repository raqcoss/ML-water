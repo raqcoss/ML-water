{
 "cells": [
  {
   "cell_type": "code",
   "execution_count": null,
   "id": "5b8dc706",
   "metadata": {},
   "outputs": [],
   "source": [
    "from sklearn.ensemble import RandomForestClassifier, GradientBoostingClassifier\n",
    "from sklearn.linear_model import LogisticRegression\n",
    "from sklearn.preprocessing import LabelEncoder, StandardScaler\n",
    "from sklearn.model_selection import train_test_split\n",
    "import numpy as np\n",
    "import pandas as pd\n",
    "from sklearn.model_selection import train_test_split\n",
    "from catboost import CatBoostClassifier\n",
    "from xgboost import XGBClassifier\n",
    "from sklearn.ensemble import RandomForestClassifier"
   ]
  },
  {
   "cell_type": "code",
   "execution_count": null,
   "id": "078724a9",
   "metadata": {},
   "outputs": [
    {
     "name": "stdout",
     "output_type": "stream",
     "text": [
      "(836, 12) (836, 1)\n",
      "Amarillo → 0\n",
      "Rojo → 1\n",
      "Verde → 2\n"
     ]
    },
    {
     "name": "stderr",
     "output_type": "stream",
     "text": [
      "C:\\Users\\amvc6\\AppData\\Local\\Temp\\ipykernel_30492\\2799603673.py:20: SettingWithCopyWarning: \n",
      "A value is trying to be set on a copy of a slice from a DataFrame\n",
      "\n",
      "See the caveats in the documentation: https://pandas.pydata.org/pandas-docs/stable/user_guide/indexing.html#returning-a-view-versus-a-copy\n",
      "  X_labeled.drop(labels = \"semaforo\", axis = 1, inplace=True)\n",
      "C:\\Users\\amvc6\\AppData\\Local\\Temp\\ipykernel_30492\\2799603673.py:22: SettingWithCopyWarning: \n",
      "A value is trying to be set on a copy of a slice from a DataFrame\n",
      "\n",
      "See the caveats in the documentation: https://pandas.pydata.org/pandas-docs/stable/user_guide/indexing.html#returning-a-view-versus-a-copy\n",
      "  X_unlabeled.drop(labels = \"semaforo\", axis = 1, inplace=True)\n"
     ]
    }
   ],
   "source": [
    "# Let's assume you have this:\n",
    "# df_labeled: DataFrame with features + 'label' column\n",
    "# df_unlabeled: DataFrame with the same features, but no labels\n",
    "\n",
    "df = pd.read_csv(\"ML-water/AllData.csv\")\n",
    "df.set_index(\"CVEGEO\", inplace=True)\n",
    "df = df.drop(labels=[\"NOM_ENT\",\"NOM_MUN\"], axis = 1)\n",
    "\n",
    "\n",
    "\n",
    "# normalized data\n",
    "scaler = StandardScaler()\n",
    "X_scaled = scaler.fit_transform(df.drop(columns=[\"semaforo\"]))\n",
    "                          \n",
    "X_scaled_df = pd.DataFrame(X_scaled, index=df.index, columns=df.drop(columns=[\"semaforo\"]).columns)\n",
    "X_scaled_df['semaforo'] = df['semaforo']\n",
    "\n",
    "X_labeled = X_scaled_df[X_scaled_df[\"semaforo\"].notna()]\n",
    "y = X_labeled['semaforo']\n",
    "X_labeled.drop(labels = \"semaforo\", axis = 1, inplace=True)\n",
    "X_unlabeled = X_scaled_df[X_scaled_df[\"semaforo\"].isna()]\n",
    "X_unlabeled.drop(labels = \"semaforo\", axis = 1, inplace=True)\n",
    "\n",
    "\n",
    "# y encoded\n",
    "le = LabelEncoder()\n",
    "y_encoded = le.fit_transform(y)\n",
    "y_encoded = pd.DataFrame(y_encoded, index=X_labeled.index, columns=['semaforo_encoded'])\n",
    "y_encoded = y_encoded.astype(int)\n",
    "y_df = pd.DataFrame(y_encoded, index=y.index, columns=['semaforo_encoded'])\n",
    "y_df[\"semaforo_encoded\"] = y_df[\"semaforo_encoded\"].replace(3, -1)\n",
    "\n",
    "x_train, x_test, y_train, y_test = train_test_split(X_labeled, y_df, test_size=0.2, random_state=42, stratify=y_df)\n",
    "\n",
    "print(x_train.shape, y_train.shape)\n",
    "\n",
    "# View the mapping\n",
    "for index, label in enumerate(le.classes_):\n",
    "    print(f\"{label} → {index}\")\n",
    "\n",
    "\n",
    "models = [CatBoostClassifier(iterations=500, class_weights={1: 0.31, 0: 0.42, 2: .27}, verbose=0),\n",
    "        XGBClassifier(max_depth=5, reg_alpha=1),\n",
    "        RandomForestClassifier(max_samples=0.5, class_weight={1: 0.31, 0: 0.42, 2: .27})\n",
    "]"
   ]
  },
  {
   "cell_type": "code",
   "execution_count": 278,
   "id": "379977ef",
   "metadata": {},
   "outputs": [
    {
     "name": "stdout",
     "output_type": "stream",
     "text": [
      "\n",
      "Iteration 1\n",
      "(836, 12) [1 0 2]\n"
     ]
    },
    {
     "name": "stderr",
     "output_type": "stream",
     "text": [
      "c:\\Users\\amvc6\\miniconda3\\envs\\mne\\Lib\\site-packages\\xgboost\\training.py:183: UserWarning: [18:09:18] WARNING: C:\\actions-runner\\_work\\xgboost\\xgboost\\src\\learner.cc:738: \n",
      "Parameters: { \"scale_pos_weight\" } are not used.\n",
      "\n",
      "  bst.update(dtrain, iteration=i, fobj=obj)\n",
      "c:\\Users\\amvc6\\miniconda3\\envs\\mne\\Lib\\site-packages\\sklearn\\base.py:1473: DataConversionWarning: A column-vector y was passed when a 1d array was expected. Please change the shape of y to (n_samples,), for example using ravel().\n",
      "  return fit_method(estimator, *args, **kwargs)\n"
     ]
    },
    {
     "name": "stdout",
     "output_type": "stream",
     "text": [
      "Class distribution of added pseudo-labels: {0: 6, 1: 32, 2: 171}\n",
      "\n",
      "Added 209 new pseudo-labeled points.\n",
      "\n",
      "Iteration 2\n",
      "(1045, 12) [1 0 2]\n"
     ]
    },
    {
     "name": "stderr",
     "output_type": "stream",
     "text": [
      "c:\\Users\\amvc6\\miniconda3\\envs\\mne\\Lib\\site-packages\\xgboost\\training.py:183: UserWarning: [18:09:24] WARNING: C:\\actions-runner\\_work\\xgboost\\xgboost\\src\\learner.cc:738: \n",
      "Parameters: { \"scale_pos_weight\" } are not used.\n",
      "\n",
      "  bst.update(dtrain, iteration=i, fobj=obj)\n",
      "c:\\Users\\amvc6\\miniconda3\\envs\\mne\\Lib\\site-packages\\sklearn\\base.py:1473: DataConversionWarning: A column-vector y was passed when a 1d array was expected. Please change the shape of y to (n_samples,), for example using ravel().\n",
      "  return fit_method(estimator, *args, **kwargs)\n"
     ]
    },
    {
     "name": "stdout",
     "output_type": "stream",
     "text": [
      "Class distribution of added pseudo-labels: {0: 1, 1: 56, 2: 250}\n",
      "\n",
      "Added 307 new pseudo-labeled points.\n",
      "\n",
      "Iteration 3\n",
      "(1352, 12) [1 0 2]\n"
     ]
    },
    {
     "name": "stderr",
     "output_type": "stream",
     "text": [
      "c:\\Users\\amvc6\\miniconda3\\envs\\mne\\Lib\\site-packages\\xgboost\\training.py:183: UserWarning: [18:09:29] WARNING: C:\\actions-runner\\_work\\xgboost\\xgboost\\src\\learner.cc:738: \n",
      "Parameters: { \"scale_pos_weight\" } are not used.\n",
      "\n",
      "  bst.update(dtrain, iteration=i, fobj=obj)\n",
      "c:\\Users\\amvc6\\miniconda3\\envs\\mne\\Lib\\site-packages\\sklearn\\base.py:1473: DataConversionWarning: A column-vector y was passed when a 1d array was expected. Please change the shape of y to (n_samples,), for example using ravel().\n",
      "  return fit_method(estimator, *args, **kwargs)\n"
     ]
    },
    {
     "name": "stdout",
     "output_type": "stream",
     "text": [
      "Class distribution of added pseudo-labels: {0: 2, 1: 27, 2: 227}\n",
      "\n",
      "Added 256 new pseudo-labeled points.\n",
      "\n",
      "Iteration 4\n",
      "(1608, 12) [1 0 2]\n"
     ]
    },
    {
     "name": "stderr",
     "output_type": "stream",
     "text": [
      "c:\\Users\\amvc6\\miniconda3\\envs\\mne\\Lib\\site-packages\\xgboost\\training.py:183: UserWarning: [18:09:34] WARNING: C:\\actions-runner\\_work\\xgboost\\xgboost\\src\\learner.cc:738: \n",
      "Parameters: { \"scale_pos_weight\" } are not used.\n",
      "\n",
      "  bst.update(dtrain, iteration=i, fobj=obj)\n",
      "c:\\Users\\amvc6\\miniconda3\\envs\\mne\\Lib\\site-packages\\sklearn\\base.py:1473: DataConversionWarning: A column-vector y was passed when a 1d array was expected. Please change the shape of y to (n_samples,), for example using ravel().\n",
      "  return fit_method(estimator, *args, **kwargs)\n"
     ]
    },
    {
     "name": "stdout",
     "output_type": "stream",
     "text": [
      "Class distribution of added pseudo-labels: {1: 4, 2: 156}\n",
      "\n",
      "Added 160 new pseudo-labeled points.\n",
      "\n",
      "Iteration 5\n",
      "(1768, 12) [1 0 2]\n"
     ]
    },
    {
     "name": "stderr",
     "output_type": "stream",
     "text": [
      "c:\\Users\\amvc6\\miniconda3\\envs\\mne\\Lib\\site-packages\\xgboost\\training.py:183: UserWarning: [18:09:39] WARNING: C:\\actions-runner\\_work\\xgboost\\xgboost\\src\\learner.cc:738: \n",
      "Parameters: { \"scale_pos_weight\" } are not used.\n",
      "\n",
      "  bst.update(dtrain, iteration=i, fobj=obj)\n",
      "c:\\Users\\amvc6\\miniconda3\\envs\\mne\\Lib\\site-packages\\sklearn\\base.py:1473: DataConversionWarning: A column-vector y was passed when a 1d array was expected. Please change the shape of y to (n_samples,), for example using ravel().\n",
      "  return fit_method(estimator, *args, **kwargs)\n"
     ]
    },
    {
     "name": "stdout",
     "output_type": "stream",
     "text": [
      "Class distribution of added pseudo-labels: {1: 5, 2: 81}\n",
      "\n",
      "Added 86 new pseudo-labeled points.\n",
      "\n",
      "Iteration 6\n",
      "(1854, 12) [1 0 2]\n"
     ]
    },
    {
     "name": "stderr",
     "output_type": "stream",
     "text": [
      "c:\\Users\\amvc6\\miniconda3\\envs\\mne\\Lib\\site-packages\\xgboost\\training.py:183: UserWarning: [18:09:44] WARNING: C:\\actions-runner\\_work\\xgboost\\xgboost\\src\\learner.cc:738: \n",
      "Parameters: { \"scale_pos_weight\" } are not used.\n",
      "\n",
      "  bst.update(dtrain, iteration=i, fobj=obj)\n",
      "c:\\Users\\amvc6\\miniconda3\\envs\\mne\\Lib\\site-packages\\sklearn\\base.py:1473: DataConversionWarning: A column-vector y was passed when a 1d array was expected. Please change the shape of y to (n_samples,), for example using ravel().\n",
      "  return fit_method(estimator, *args, **kwargs)\n"
     ]
    },
    {
     "name": "stdout",
     "output_type": "stream",
     "text": [
      "Class distribution of added pseudo-labels: {1: 2, 2: 43}\n",
      "\n",
      "Added 45 new pseudo-labeled points.\n",
      "\n",
      "Iteration 7\n",
      "(1899, 12) [1 0 2]\n"
     ]
    },
    {
     "name": "stderr",
     "output_type": "stream",
     "text": [
      "c:\\Users\\amvc6\\miniconda3\\envs\\mne\\Lib\\site-packages\\xgboost\\training.py:183: UserWarning: [18:09:50] WARNING: C:\\actions-runner\\_work\\xgboost\\xgboost\\src\\learner.cc:738: \n",
      "Parameters: { \"scale_pos_weight\" } are not used.\n",
      "\n",
      "  bst.update(dtrain, iteration=i, fobj=obj)\n",
      "c:\\Users\\amvc6\\miniconda3\\envs\\mne\\Lib\\site-packages\\sklearn\\base.py:1473: DataConversionWarning: A column-vector y was passed when a 1d array was expected. Please change the shape of y to (n_samples,), for example using ravel().\n",
      "  return fit_method(estimator, *args, **kwargs)\n"
     ]
    },
    {
     "name": "stdout",
     "output_type": "stream",
     "text": [
      "Class distribution of added pseudo-labels: {0: 1, 1: 1, 2: 30}\n",
      "\n",
      "Added 32 new pseudo-labeled points.\n",
      "\n",
      "Iteration 8\n",
      "(1931, 12) [1 0 2]\n"
     ]
    },
    {
     "name": "stderr",
     "output_type": "stream",
     "text": [
      "c:\\Users\\amvc6\\miniconda3\\envs\\mne\\Lib\\site-packages\\xgboost\\training.py:183: UserWarning: [18:09:59] WARNING: C:\\actions-runner\\_work\\xgboost\\xgboost\\src\\learner.cc:738: \n",
      "Parameters: { \"scale_pos_weight\" } are not used.\n",
      "\n",
      "  bst.update(dtrain, iteration=i, fobj=obj)\n",
      "c:\\Users\\amvc6\\miniconda3\\envs\\mne\\Lib\\site-packages\\sklearn\\base.py:1473: DataConversionWarning: A column-vector y was passed when a 1d array was expected. Please change the shape of y to (n_samples,), for example using ravel().\n",
      "  return fit_method(estimator, *args, **kwargs)\n"
     ]
    },
    {
     "name": "stdout",
     "output_type": "stream",
     "text": [
      "Class distribution of added pseudo-labels: {1: 2, 2: 10}\n",
      "\n",
      "Added 12 new pseudo-labeled points.\n",
      "\n",
      "Iteration 9\n",
      "(1943, 12) [1 0 2]\n"
     ]
    },
    {
     "name": "stderr",
     "output_type": "stream",
     "text": [
      "c:\\Users\\amvc6\\miniconda3\\envs\\mne\\Lib\\site-packages\\xgboost\\training.py:183: UserWarning: [18:10:08] WARNING: C:\\actions-runner\\_work\\xgboost\\xgboost\\src\\learner.cc:738: \n",
      "Parameters: { \"scale_pos_weight\" } are not used.\n",
      "\n",
      "  bst.update(dtrain, iteration=i, fobj=obj)\n",
      "c:\\Users\\amvc6\\miniconda3\\envs\\mne\\Lib\\site-packages\\sklearn\\base.py:1473: DataConversionWarning: A column-vector y was passed when a 1d array was expected. Please change the shape of y to (n_samples,), for example using ravel().\n",
      "  return fit_method(estimator, *args, **kwargs)\n"
     ]
    },
    {
     "name": "stdout",
     "output_type": "stream",
     "text": [
      "Class distribution of added pseudo-labels: {2: 6}\n",
      "\n",
      "Added 6 new pseudo-labeled points.\n",
      "\n",
      "Iteration 10\n",
      "(1949, 12) [1 0 2]\n"
     ]
    },
    {
     "name": "stderr",
     "output_type": "stream",
     "text": [
      "c:\\Users\\amvc6\\miniconda3\\envs\\mne\\Lib\\site-packages\\xgboost\\training.py:183: UserWarning: [18:10:17] WARNING: C:\\actions-runner\\_work\\xgboost\\xgboost\\src\\learner.cc:738: \n",
      "Parameters: { \"scale_pos_weight\" } are not used.\n",
      "\n",
      "  bst.update(dtrain, iteration=i, fobj=obj)\n",
      "c:\\Users\\amvc6\\miniconda3\\envs\\mne\\Lib\\site-packages\\sklearn\\base.py:1473: DataConversionWarning: A column-vector y was passed when a 1d array was expected. Please change the shape of y to (n_samples,), for example using ravel().\n",
      "  return fit_method(estimator, *args, **kwargs)\n"
     ]
    },
    {
     "name": "stdout",
     "output_type": "stream",
     "text": [
      "Class distribution of added pseudo-labels: {1: 2, 2: 7}\n",
      "\n",
      "Added 9 new pseudo-labeled points.\n",
      "\n",
      "Iteration 11\n",
      "(1958, 12) [1 0 2]\n"
     ]
    },
    {
     "name": "stderr",
     "output_type": "stream",
     "text": [
      "c:\\Users\\amvc6\\miniconda3\\envs\\mne\\Lib\\site-packages\\xgboost\\training.py:183: UserWarning: [18:10:27] WARNING: C:\\actions-runner\\_work\\xgboost\\xgboost\\src\\learner.cc:738: \n",
      "Parameters: { \"scale_pos_weight\" } are not used.\n",
      "\n",
      "  bst.update(dtrain, iteration=i, fobj=obj)\n",
      "c:\\Users\\amvc6\\miniconda3\\envs\\mne\\Lib\\site-packages\\sklearn\\base.py:1473: DataConversionWarning: A column-vector y was passed when a 1d array was expected. Please change the shape of y to (n_samples,), for example using ravel().\n",
      "  return fit_method(estimator, *args, **kwargs)\n"
     ]
    },
    {
     "name": "stdout",
     "output_type": "stream",
     "text": [
      "Class distribution of added pseudo-labels: {1: 2, 2: 3}\n",
      "\n",
      "Added 5 new pseudo-labeled points.\n",
      "\n",
      "Iteration 12\n",
      "(1963, 12) [1 0 2]\n"
     ]
    },
    {
     "name": "stderr",
     "output_type": "stream",
     "text": [
      "c:\\Users\\amvc6\\miniconda3\\envs\\mne\\Lib\\site-packages\\xgboost\\training.py:183: UserWarning: [18:10:35] WARNING: C:\\actions-runner\\_work\\xgboost\\xgboost\\src\\learner.cc:738: \n",
      "Parameters: { \"scale_pos_weight\" } are not used.\n",
      "\n",
      "  bst.update(dtrain, iteration=i, fobj=obj)\n",
      "c:\\Users\\amvc6\\miniconda3\\envs\\mne\\Lib\\site-packages\\sklearn\\base.py:1473: DataConversionWarning: A column-vector y was passed when a 1d array was expected. Please change the shape of y to (n_samples,), for example using ravel().\n",
      "  return fit_method(estimator, *args, **kwargs)\n"
     ]
    },
    {
     "name": "stdout",
     "output_type": "stream",
     "text": [
      "Class distribution of added pseudo-labels: {2: 3}\n",
      "\n",
      "Added 3 new pseudo-labeled points.\n",
      "\n",
      "Iteration 13\n",
      "(1966, 12) [1 0 2]\n"
     ]
    },
    {
     "name": "stderr",
     "output_type": "stream",
     "text": [
      "c:\\Users\\amvc6\\miniconda3\\envs\\mne\\Lib\\site-packages\\xgboost\\training.py:183: UserWarning: [18:10:43] WARNING: C:\\actions-runner\\_work\\xgboost\\xgboost\\src\\learner.cc:738: \n",
      "Parameters: { \"scale_pos_weight\" } are not used.\n",
      "\n",
      "  bst.update(dtrain, iteration=i, fobj=obj)\n",
      "c:\\Users\\amvc6\\miniconda3\\envs\\mne\\Lib\\site-packages\\sklearn\\base.py:1473: DataConversionWarning: A column-vector y was passed when a 1d array was expected. Please change the shape of y to (n_samples,), for example using ravel().\n",
      "  return fit_method(estimator, *args, **kwargs)\n"
     ]
    },
    {
     "name": "stdout",
     "output_type": "stream",
     "text": [
      "Class distribution of added pseudo-labels: {0: 1, 1: 1, 2: 3}\n",
      "\n",
      "Added 5 new pseudo-labeled points.\n",
      "\n",
      "Iteration 14\n",
      "(1971, 12) [1 0 2]\n"
     ]
    },
    {
     "name": "stderr",
     "output_type": "stream",
     "text": [
      "c:\\Users\\amvc6\\miniconda3\\envs\\mne\\Lib\\site-packages\\xgboost\\training.py:183: UserWarning: [18:10:52] WARNING: C:\\actions-runner\\_work\\xgboost\\xgboost\\src\\learner.cc:738: \n",
      "Parameters: { \"scale_pos_weight\" } are not used.\n",
      "\n",
      "  bst.update(dtrain, iteration=i, fobj=obj)\n",
      "c:\\Users\\amvc6\\miniconda3\\envs\\mne\\Lib\\site-packages\\sklearn\\base.py:1473: DataConversionWarning: A column-vector y was passed when a 1d array was expected. Please change the shape of y to (n_samples,), for example using ravel().\n",
      "  return fit_method(estimator, *args, **kwargs)\n"
     ]
    },
    {
     "name": "stdout",
     "output_type": "stream",
     "text": [
      "Class distribution of added pseudo-labels: {2: 2}\n",
      "\n",
      "Added 2 new pseudo-labeled points.\n",
      "\n",
      "Iteration 15\n",
      "(1973, 12) [1 0 2]\n"
     ]
    },
    {
     "name": "stderr",
     "output_type": "stream",
     "text": [
      "c:\\Users\\amvc6\\miniconda3\\envs\\mne\\Lib\\site-packages\\xgboost\\training.py:183: UserWarning: [18:10:59] WARNING: C:\\actions-runner\\_work\\xgboost\\xgboost\\src\\learner.cc:738: \n",
      "Parameters: { \"scale_pos_weight\" } are not used.\n",
      "\n",
      "  bst.update(dtrain, iteration=i, fobj=obj)\n",
      "c:\\Users\\amvc6\\miniconda3\\envs\\mne\\Lib\\site-packages\\sklearn\\base.py:1473: DataConversionWarning: A column-vector y was passed when a 1d array was expected. Please change the shape of y to (n_samples,), for example using ravel().\n",
      "  return fit_method(estimator, *args, **kwargs)\n"
     ]
    },
    {
     "name": "stdout",
     "output_type": "stream",
     "text": [
      "Class distribution of added pseudo-labels: {2: 3}\n",
      "\n",
      "Added 3 new pseudo-labeled points.\n",
      "\n",
      "Iteration 16\n",
      "(1976, 12) [1 0 2]\n"
     ]
    },
    {
     "name": "stderr",
     "output_type": "stream",
     "text": [
      "c:\\Users\\amvc6\\miniconda3\\envs\\mne\\Lib\\site-packages\\xgboost\\training.py:183: UserWarning: [18:11:06] WARNING: C:\\actions-runner\\_work\\xgboost\\xgboost\\src\\learner.cc:738: \n",
      "Parameters: { \"scale_pos_weight\" } are not used.\n",
      "\n",
      "  bst.update(dtrain, iteration=i, fobj=obj)\n",
      "c:\\Users\\amvc6\\miniconda3\\envs\\mne\\Lib\\site-packages\\sklearn\\base.py:1473: DataConversionWarning: A column-vector y was passed when a 1d array was expected. Please change the shape of y to (n_samples,), for example using ravel().\n",
      "  return fit_method(estimator, *args, **kwargs)\n"
     ]
    },
    {
     "name": "stdout",
     "output_type": "stream",
     "text": [
      "No more confident pseudo-labels found.\n"
     ]
    }
   ],
   "source": [
    "threshold = 0.6  # Confidence threshold\n",
    "max_iter = 50\n",
    "\n",
    "\n",
    "for iteration in range(max_iter):\n",
    "    print(f\"\\nIteration {iteration + 1}\")\n",
    "    #y_encoded = y_encoded.astype(int)\n",
    "    \n",
    "    print(x_train.shape, y_train['semaforo_encoded'].unique())\n",
    "    # Train all models\n",
    "    for model in models:\n",
    "        model.fit(x_train, y_train)\n",
    "    \n",
    "    # Get predicted probabilities from all models\n",
    "    probas = [model.predict_proba(X_unlabeled) for model in models]\n",
    "  \n",
    "\n",
    "    for i, model in enumerate(models):\n",
    "        model_preds = model.predict(X_unlabeled)\n",
    "        unique, counts = np.unique(model_preds, return_counts=True)\n",
    "        print(f\"Model {i} predicted class distribution: {dict(zip(unique, counts))}\")\n",
    "        # Average probabilities\n",
    "        avg_probas = np.mean(probas, axis=0)\n",
    "    \n",
    "    # Get confidence and predicted class\n",
    "    max_probs = np.max(avg_probas, axis=1)\n",
    "    preds = np.argmax(avg_probas, axis=1)\n",
    "    \n",
    "    # Get boolean mask of confident predictions\n",
    "    confident_mask = pd.Series(max_probs >= threshold, index=X_unlabeled.index)\n",
    "\n",
    "    if confident_mask.sum() == 0:\n",
    "        print(\"No more confident pseudo-labels found.\")\n",
    "        break\n",
    "\n",
    "\n",
    "    # Use that to select rows from X_unlabeled while keeping original index\n",
    "    new_X = X_unlabeled.loc[confident_mask]\n",
    "    \n",
    "    new_y = preds[confident_mask]\n",
    "\n",
    "    unique, counts = np.unique(new_y, return_counts=True)\n",
    "    dist = dict(zip(unique, counts))\n",
    "    print(f\"Class distribution of added pseudo-labels: {dist}\")\n",
    "\n",
    "    column_name = 'semaforo_encoded'\n",
    "    # Ensure both are DataFrames with the same column name\n",
    "    if isinstance(y_train, pd.Series):\n",
    "        y_train = y_train.to_frame(name=column_name)\n",
    "\n",
    "    new_y_df = pd.DataFrame(new_y, index=new_X.index, columns=[column_name])\n",
    "    y_train = pd.concat([y_train, new_y_df], axis=0)\n",
    "\n",
    "    # Update labeled dataset\n",
    "    x_train = pd.concat([x_train, new_X], axis=0)\n",
    "    #y_train = pd.concat([y_train, pd.Series(new_y, index=new_X.index)], axis=0)\n",
    "    \n",
    "    # Remove pseudo-labeled from unlabeled\n",
    "    X_unlabeled = X_unlabeled.drop(index=new_X.index)\n",
    "    print()\n",
    "    \n",
    "    print(f\"Added {confident_mask.sum()} new pseudo-labeled points.\")\n"
   ]
  },
  {
   "cell_type": "code",
   "execution_count": 265,
   "id": "5464edaa",
   "metadata": {},
   "outputs": [
    {
     "name": "stdout",
     "output_type": "stream",
     "text": [
      "Ensemble Accuracy: 0.41904761904761906\n",
      "              precision    recall  f1-score   support\n",
      "\n",
      "           0       0.55      0.47      0.51        89\n",
      "           1       0.48      0.38      0.43        65\n",
      "           2       0.26      0.38      0.30        56\n",
      "\n",
      "    accuracy                           0.42       210\n",
      "   macro avg       0.43      0.41      0.41       210\n",
      "weighted avg       0.45      0.42      0.43       210\n",
      "\n"
     ]
    }
   ],
   "source": [
    "from sklearn.metrics import classification_report, accuracy_score\n",
    "\n",
    "# Predict probabilities for test set from each model\n",
    "test_probas = [model.predict_proba(x_test) for model in models]\n",
    "\n",
    "# Average probabilities across models\n",
    "avg_test_probas = np.mean(test_probas, axis=0)\n",
    "\n",
    "# Get maximum probability (confidence) and predicted class\n",
    "max_probs = np.max(avg_test_probas, axis=1)\n",
    "ensemble_preds = np.argmax(avg_test_probas, axis=1)\n",
    "\n",
    "\n",
    "\n",
    "# Evaluate\n",
    "print(\"Ensemble Accuracy:\", accuracy_score(y_test, ensemble_preds))\n",
    "print(classification_report(y_test, ensemble_preds))"
   ]
  },
  {
   "cell_type": "code",
   "execution_count": 279,
   "id": "2e8183b9",
   "metadata": {},
   "outputs": [
    {
     "data": {
      "text/plain": [
       "semaforo_encoded\n",
       "2    1219\n",
       "1     394\n",
       "0     363\n",
       "Name: count, dtype: int64"
      ]
     },
     "execution_count": 279,
     "metadata": {},
     "output_type": "execute_result"
    }
   ],
   "source": [
    "y_train['semaforo_encoded'].value_counts()"
   ]
  },
  {
   "cell_type": "code",
   "execution_count": 132,
   "id": "3418f796",
   "metadata": {},
   "outputs": [
    {
     "name": "stderr",
     "output_type": "stream",
     "text": [
      "c:\\Users\\amvc6\\miniconda3\\envs\\mne\\Lib\\site-packages\\sklearn\\base.py:1473: DataConversionWarning: A column-vector y was passed when a 1d array was expected. Please change the shape of y to (n_samples,), for example using ravel().\n",
      "  return fit_method(estimator, *args, **kwargs)\n"
     ]
    },
    {
     "name": "stdout",
     "output_type": "stream",
     "text": [
      "Accuracy: 0.5571428571428572\n",
      "\n",
      "Classification Report:\n",
      "               precision    recall  f1-score   support\n",
      "\n",
      "           0       0.61      0.72      0.66        93\n",
      "           1       0.54      0.64      0.59        67\n",
      "           2       0.35      0.14      0.20        50\n",
      "\n",
      "    accuracy                           0.56       210\n",
      "   macro avg       0.50      0.50      0.48       210\n",
      "weighted avg       0.52      0.56      0.53       210\n",
      "\n"
     ]
    },
    {
     "data": {
      "image/png": "[encoded data removed]",
      "text/plain": [
       "<Figure size 640x480 with 2 Axes>"
      ]
     },
     "metadata": {},
     "output_type": "display_data"
    }
   ],
   "source": [
    "from sklearn.ensemble import RandomForestClassifier\n",
    "from sklearn.model_selection import train_test_split\n",
    "from sklearn.metrics import accuracy_score, classification_report, confusion_matrix\n",
    "import seaborn as sns\n",
    "import matplotlib.pyplot as plt\n",
    "\n",
    "# Step 1: Define your features and labels\n",
    "X = X_labeled  # features\n",
    "y = y # target\n",
    "le = LabelEncoder()\n",
    "# # y encoded\n",
    "le = LabelEncoder()\n",
    "y_encoded = le.fit_transform(y)\n",
    "y_encoded = pd.DataFrame(y_encoded, index=X_labeled.index, columns=['semaforo_encoded'])\n",
    "\n",
    "# Step 2: Train-test split\n",
    "X_train, X_test, y_train, y_test = train_test_split(X, y_encoded, test_size=0.2, random_state=42)\n",
    "\n",
    "# Step 3: Train Random Forest\n",
    "clf = RandomForestClassifier(random_state=42)\n",
    "clf.fit(X_train, y_train)\n",
    "\n",
    "# Step 4: Predictions\n",
    "y_pred = clf.predict(X_test)\n",
    "\n",
    "# Step 5: Evaluation\n",
    "print(\"Accuracy:\", accuracy_score(y_test, y_pred))\n",
    "print(\"\\nClassification Report:\\n\", classification_report(y_test, y_pred))\n",
    "\n",
    "# Step 6: Confusion Matrix\n",
    "cm = confusion_matrix(y_test, y_pred, labels=clf.classes_)\n",
    "sns.heatmap(cm, annot=True, fmt='d', xticklabels=clf.classes_, yticklabels=clf.classes_)\n",
    "plt.xlabel(\"Predicted\")\n",
    "plt.ylabel(\"Actual\")\n",
    "plt.title(\"Confusion Matrix\")\n",
    "plt.show()"
   ]
  },
  {
   "cell_type": "code",
   "execution_count": 130,
   "id": "407f2924",
   "metadata": {},
   "outputs": [
    {
     "data": {
      "image/png": "[encoded data removed]",
      "text/plain": [
       "<Figure size 1000x400 with 1 Axes>"
      ]
     },
     "metadata": {},
     "output_type": "display_data"
    }
   ],
   "source": [
    "import pandas as pd\n",
    "\n",
    "feature_importances = pd.Series(clf.feature_importances_, index=X.columns)\n",
    "feature_importances.sort_values(ascending=False).plot(kind=\"bar\", figsize=(10, 4), title=\"Feature Importances\")\n",
    "plt.show()"
   ]
  },
  {
   "cell_type": "code",
   "execution_count": 117,
   "id": "166afad5",
   "metadata": {},
   "outputs": [
    {
     "data": {
      "text/html": [
       "<div>\n",
       "<style scoped>\n",
       "    .dataframe tbody tr th:only-of-type {\n",
       "        vertical-align: middle;\n",
       "    }\n",
       "\n",
       "    .dataframe tbody tr th {\n",
       "        vertical-align: top;\n",
       "    }\n",
       "\n",
       "    .dataframe thead th {\n",
       "        text-align: right;\n",
       "    }\n",
       "</style>\n",
       "<table border=\"1\" class=\"dataframe\">\n",
       "  <thead>\n",
       "    <tr style=\"text-align: right;\">\n",
       "      <th></th>\n",
       "      <th>POB_TOTAL</th>\n",
       "      <th>ALTITUD</th>\n",
       "      <th>AREA</th>\n",
       "      <th>UMBRAL12H</th>\n",
       "      <th>PORCENTA_1</th>\n",
       "      <th>urban</th>\n",
       "      <th>agua_AR</th>\n",
       "      <th>agua_FC</th>\n",
       "      <th>agua_PA</th>\n",
       "      <th>agua_PT</th>\n",
       "      <th>agua_PP</th>\n",
       "      <th>avg_impact</th>\n",
       "      <th>avg_agricultura</th>\n",
       "      <th>avg_construccion</th>\n",
       "      <th>avg_manufactura</th>\n",
       "      <th>avg_mineria</th>\n",
       "    </tr>\n",
       "    <tr>\n",
       "      <th>CVEGEO</th>\n",
       "      <th></th>\n",
       "      <th></th>\n",
       "      <th></th>\n",
       "      <th></th>\n",
       "      <th></th>\n",
       "      <th></th>\n",
       "      <th></th>\n",
       "      <th></th>\n",
       "      <th></th>\n",
       "      <th></th>\n",
       "      <th></th>\n",
       "      <th></th>\n",
       "      <th></th>\n",
       "      <th></th>\n",
       "      <th></th>\n",
       "      <th></th>\n",
       "    </tr>\n",
       "  </thead>\n",
       "  <tbody>\n",
       "    <tr>\n",
       "      <th>1001</th>\n",
       "      <td>6.110137</td>\n",
       "      <td>0.749986</td>\n",
       "      <td>0.198225</td>\n",
       "      <td>-0.882390</td>\n",
       "      <td>-0.349543</td>\n",
       "      <td>2.417883</td>\n",
       "      <td>17.848848</td>\n",
       "      <td>11.985927</td>\n",
       "      <td>0.121758</td>\n",
       "      <td>6.362337</td>\n",
       "      <td>-0.153224</td>\n",
       "      <td>0.759083</td>\n",
       "      <td>0.582820</td>\n",
       "      <td>1.854487</td>\n",
       "      <td>1.700073</td>\n",
       "      <td>-0.082247</td>\n",
       "    </tr>\n",
       "    <tr>\n",
       "      <th>1002</th>\n",
       "      <td>0.003385</td>\n",
       "      <td>0.886615</td>\n",
       "      <td>-0.127084</td>\n",
       "      <td>-0.826000</td>\n",
       "      <td>-0.391276</td>\n",
       "      <td>-0.436637</td>\n",
       "      <td>-0.475733</td>\n",
       "      <td>2.470411</td>\n",
       "      <td>-0.215260</td>\n",
       "      <td>2.143901</td>\n",
       "      <td>-0.153224</td>\n",
       "      <td>0.783009</td>\n",
       "      <td>-0.171063</td>\n",
       "      <td>0.079724</td>\n",
       "      <td>-0.298491</td>\n",
       "      <td>-0.157249</td>\n",
       "    </tr>\n",
       "    <tr>\n",
       "      <th>1003</th>\n",
       "      <td>0.049071</td>\n",
       "      <td>0.639561</td>\n",
       "      <td>0.071335</td>\n",
       "      <td>-0.809529</td>\n",
       "      <td>-0.625749</td>\n",
       "      <td>-0.436637</td>\n",
       "      <td>0.933850</td>\n",
       "      <td>1.861861</td>\n",
       "      <td>-0.215260</td>\n",
       "      <td>0.737756</td>\n",
       "      <td>-0.153224</td>\n",
       "      <td>-0.058838</td>\n",
       "      <td>-0.063365</td>\n",
       "      <td>-0.115531</td>\n",
       "      <td>-0.263448</td>\n",
       "      <td>-0.119748</td>\n",
       "    </tr>\n",
       "    <tr>\n",
       "      <th>1004</th>\n",
       "      <td>-0.231616</td>\n",
       "      <td>0.810251</td>\n",
       "      <td>-0.343783</td>\n",
       "      <td>-1.022208</td>\n",
       "      <td>-0.475675</td>\n",
       "      <td>-0.436637</td>\n",
       "      <td>1.537957</td>\n",
       "      <td>0.202178</td>\n",
       "      <td>-0.215260</td>\n",
       "      <td>0.456527</td>\n",
       "      <td>-0.153224</td>\n",
       "      <td>0.843405</td>\n",
       "      <td>-0.171063</td>\n",
       "      <td>-0.325807</td>\n",
       "      <td>-0.348964</td>\n",
       "      <td>-0.157249</td>\n",
       "    </tr>\n",
       "    <tr>\n",
       "      <th>1005</th>\n",
       "      <td>0.536813</td>\n",
       "      <td>0.772419</td>\n",
       "      <td>-0.149788</td>\n",
       "      <td>-0.865871</td>\n",
       "      <td>-0.460283</td>\n",
       "      <td>2.417883</td>\n",
       "      <td>6.370814</td>\n",
       "      <td>1.806538</td>\n",
       "      <td>-0.215260</td>\n",
       "      <td>4.112504</td>\n",
       "      <td>-0.153224</td>\n",
       "      <td>0.020183</td>\n",
       "      <td>-0.063365</td>\n",
       "      <td>1.757149</td>\n",
       "      <td>3.360671</td>\n",
       "      <td>3.817856</td>\n",
       "    </tr>\n",
       "  </tbody>\n",
       "</table>\n",
       "</div>"
      ],
      "text/plain": [
       "        POB_TOTAL   ALTITUD      AREA  UMBRAL12H  PORCENTA_1     urban  \\\n",
       "CVEGEO                                                                   \n",
       "1001     6.110137  0.749986  0.198225  -0.882390   -0.349543  2.417883   \n",
       "1002     0.003385  0.886615 -0.127084  -0.826000   -0.391276 -0.436637   \n",
       "1003     0.049071  0.639561  0.071335  -0.809529   -0.625749 -0.436637   \n",
       "1004    -0.231616  0.810251 -0.343783  -1.022208   -0.475675 -0.436637   \n",
       "1005     0.536813  0.772419 -0.149788  -0.865871   -0.460283  2.417883   \n",
       "\n",
       "          agua_AR    agua_FC   agua_PA   agua_PT   agua_PP  avg_impact  \\\n",
       "CVEGEO                                                                   \n",
       "1001    17.848848  11.985927  0.121758  6.362337 -0.153224    0.759083   \n",
       "1002    -0.475733   2.470411 -0.215260  2.143901 -0.153224    0.783009   \n",
       "1003     0.933850   1.861861 -0.215260  0.737756 -0.153224   -0.058838   \n",
       "1004     1.537957   0.202178 -0.215260  0.456527 -0.153224    0.843405   \n",
       "1005     6.370814   1.806538 -0.215260  4.112504 -0.153224    0.020183   \n",
       "\n",
       "        avg_agricultura  avg_construccion  avg_manufactura  avg_mineria  \n",
       "CVEGEO                                                                   \n",
       "1001           0.582820          1.854487         1.700073    -0.082247  \n",
       "1002          -0.171063          0.079724        -0.298491    -0.157249  \n",
       "1003          -0.063365         -0.115531        -0.263448    -0.119748  \n",
       "1004          -0.171063         -0.325807        -0.348964    -0.157249  \n",
       "1005          -0.063365          1.757149         3.360671     3.817856  "
      ]
     },
     "execution_count": 117,
     "metadata": {},
     "output_type": "execute_result"
    }
   ],
   "source": [
    "X_labeled.head()"
   ]
  },
  {
   "cell_type": "code",
   "execution_count": 119,
   "id": "9cd5e3b3",
   "metadata": {},
   "outputs": [
    {
     "data": {
      "text/html": [
       "<div>\n",
       "<style scoped>\n",
       "    .dataframe tbody tr th:only-of-type {\n",
       "        vertical-align: middle;\n",
       "    }\n",
       "\n",
       "    .dataframe tbody tr th {\n",
       "        vertical-align: top;\n",
       "    }\n",
       "\n",
       "    .dataframe thead th {\n",
       "        text-align: right;\n",
       "    }\n",
       "</style>\n",
       "<table border=\"1\" class=\"dataframe\">\n",
       "  <thead>\n",
       "    <tr style=\"text-align: right;\">\n",
       "      <th></th>\n",
       "      <th>semaforo_encoded</th>\n",
       "      <th>0</th>\n",
       "    </tr>\n",
       "    <tr>\n",
       "      <th>CVEGEO</th>\n",
       "      <th></th>\n",
       "      <th></th>\n",
       "    </tr>\n",
       "  </thead>\n",
       "  <tbody>\n",
       "    <tr>\n",
       "      <th>1001</th>\n",
       "      <td>1.0</td>\n",
       "      <td>NaN</td>\n",
       "    </tr>\n",
       "    <tr>\n",
       "      <th>1002</th>\n",
       "      <td>2.0</td>\n",
       "      <td>NaN</td>\n",
       "    </tr>\n",
       "    <tr>\n",
       "      <th>1003</th>\n",
       "      <td>1.0</td>\n",
       "      <td>NaN</td>\n",
       "    </tr>\n",
       "    <tr>\n",
       "      <th>1004</th>\n",
       "      <td>1.0</td>\n",
       "      <td>NaN</td>\n",
       "    </tr>\n",
       "    <tr>\n",
       "      <th>1005</th>\n",
       "      <td>1.0</td>\n",
       "      <td>NaN</td>\n",
       "    </tr>\n",
       "    <tr>\n",
       "      <th>...</th>\n",
       "      <td>...</td>\n",
       "      <td>...</td>\n",
       "    </tr>\n",
       "    <tr>\n",
       "      <th>31092</th>\n",
       "      <td>NaN</td>\n",
       "      <td>0.0</td>\n",
       "    </tr>\n",
       "    <tr>\n",
       "      <th>31098</th>\n",
       "      <td>NaN</td>\n",
       "      <td>0.0</td>\n",
       "    </tr>\n",
       "    <tr>\n",
       "      <th>31103</th>\n",
       "      <td>NaN</td>\n",
       "      <td>2.0</td>\n",
       "    </tr>\n",
       "    <tr>\n",
       "      <th>32002</th>\n",
       "      <td>NaN</td>\n",
       "      <td>1.0</td>\n",
       "    </tr>\n",
       "    <tr>\n",
       "      <th>32022</th>\n",
       "      <td>NaN</td>\n",
       "      <td>1.0</td>\n",
       "    </tr>\n",
       "  </tbody>\n",
       "</table>\n",
       "<p>1626 rows × 2 columns</p>\n",
       "</div>"
      ],
      "text/plain": [
       "        semaforo_encoded    0\n",
       "CVEGEO                       \n",
       "1001                 1.0  NaN\n",
       "1002                 2.0  NaN\n",
       "1003                 1.0  NaN\n",
       "1004                 1.0  NaN\n",
       "1005                 1.0  NaN\n",
       "...                  ...  ...\n",
       "31092                NaN  0.0\n",
       "31098                NaN  0.0\n",
       "31103                NaN  2.0\n",
       "32002                NaN  1.0\n",
       "32022                NaN  1.0\n",
       "\n",
       "[1626 rows x 2 columns]"
      ]
     },
     "execution_count": 119,
     "metadata": {},
     "output_type": "execute_result"
    }
   ],
   "source": [
    "y_encoded"
   ]
  }
 ],
 "metadata": {
  "kernelspec": {
   "display_name": "your_env_name",
   "language": "python",
   "name": "your_env_name"
  },
  "language_info": {
   "codemirror_mode": {
    "name": "ipython",
    "version": 3
   },
   "file_extension": ".py",
   "mimetype": "text/x-python",
   "name": "python",
   "nbconvert_exporter": "python",
   "pygments_lexer": "ipython3",
   "version": "3.12.7"
  }
 },
 "nbformat": 4,
 "nbformat_minor": 5
}
