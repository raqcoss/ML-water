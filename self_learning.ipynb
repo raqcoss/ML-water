{
 "cells": [
  {
   "cell_type": "markdown",
   "id": "688ea891",
   "metadata": {},
   "source": [
    "# Semi-Supervised Ensemble Model for Water Quality Prediction in Mexico\n",
    "\n",
    "**Authors:** Raquel Cossío-Ramírez, Hortencia A. Ramírez-Vázquez, Amanda M. Valdez-Calderón\n",
    "\n",
    "\n",
    "This study’s objective is to create a semi-supervised ensemble model capable of predicting water quality by municipality based on environmental factors, such as population, inundability and industrial activity."
   ]
  },
  {
   "cell_type": "markdown",
   "id": "9624d234",
   "metadata": {},
   "source": [
    "### Setup\n",
    "\n",
    "Library imports, below are the necessary libraries for data processing, machine learning models, and evaluation metrics."
   ]
  },
  {
   "cell_type": "code",
   "execution_count": 97,
   "id": "5b8dc706",
   "metadata": {},
   "outputs": [],
   "source": [
    "import numpy as np\n",
    "import pandas as pd\n",
    "\n",
    "import seaborn as sns\n",
    "import matplotlib.pyplot as plt\n",
    "\n",
    "from xgboost import XGBClassifier\n",
    "from catboost import CatBoostClassifier\n",
    "from sklearn.metrics import confusion_matrix\n",
    "from sklearn.model_selection import train_test_split\n",
    "from sklearn.preprocessing import LabelEncoder, StandardScaler\n",
    "from sklearn.ensemble import RandomForestClassifier\n",
    "from sklearn.metrics import classification_report, accuracy_score\n"
   ]
  },
  {
   "cell_type": "markdown",
   "id": "1287365c",
   "metadata": {},
   "source": [
    "In order to predict water quality for municipalities that were not covered by measuring stations, we opt to build a dataset with features that could be indirectly related to water quality. We included features per municipality such as [population](), [altitude](), [area](), [precipitation](), [flood-ability threshold](), [number of water treatment facilities](), [number of wastewater discharge points](), and [number of people working in industries](https://www.inegi.org.mx/app/descarga/ficha.html?tit=2781025&ag=0&f=csv). In this notebook [AllData.csv](https://github.com/raqcoss/ML-water/blob/main/AllData.csv) is the integration of the datasets metioned above."
   ]
  },
  {
   "cell_type": "code",
   "execution_count": 98,
   "id": "dda68a27",
   "metadata": {},
   "outputs": [
    {
     "data": {
      "text/html": [
       "<div>\n",
       "<style scoped>\n",
       "    .dataframe tbody tr th:only-of-type {\n",
       "        vertical-align: middle;\n",
       "    }\n",
       "\n",
       "    .dataframe tbody tr th {\n",
       "        vertical-align: top;\n",
       "    }\n",
       "\n",
       "    .dataframe thead th {\n",
       "        text-align: right;\n",
       "    }\n",
       "</style>\n",
       "<table border=\"1\" class=\"dataframe\">\n",
       "  <thead>\n",
       "    <tr style=\"text-align: right;\">\n",
       "      <th></th>\n",
       "      <th>POB_TOTAL</th>\n",
       "      <th>ALTITUD</th>\n",
       "      <th>AREA</th>\n",
       "      <th>UMBRAL12H</th>\n",
       "      <th>PORCENTA_1</th>\n",
       "      <th>agua_AR</th>\n",
       "      <th>agua_FC</th>\n",
       "      <th>agua_PT</th>\n",
       "      <th>avg_impact</th>\n",
       "      <th>avg_agricultura</th>\n",
       "      <th>avg_construccion</th>\n",
       "      <th>avg_manufactura</th>\n",
       "      <th>semaforo</th>\n",
       "    </tr>\n",
       "    <tr>\n",
       "      <th>CVEGEO</th>\n",
       "      <th></th>\n",
       "      <th></th>\n",
       "      <th></th>\n",
       "      <th></th>\n",
       "      <th></th>\n",
       "      <th></th>\n",
       "      <th></th>\n",
       "      <th></th>\n",
       "      <th></th>\n",
       "      <th></th>\n",
       "      <th></th>\n",
       "      <th></th>\n",
       "      <th></th>\n",
       "    </tr>\n",
       "  </thead>\n",
       "  <tbody>\n",
       "    <tr>\n",
       "      <th>1001</th>\n",
       "      <td>948990</td>\n",
       "      <td>1918.046196</td>\n",
       "      <td>116635.92480</td>\n",
       "      <td>57.80700</td>\n",
       "      <td>4.829056</td>\n",
       "      <td>91</td>\n",
       "      <td>226</td>\n",
       "      <td>24</td>\n",
       "      <td>0.900702</td>\n",
       "      <td>21</td>\n",
       "      <td>24.193751</td>\n",
       "      <td>44.979780</td>\n",
       "      <td>Rojo</td>\n",
       "    </tr>\n",
       "    <tr>\n",
       "      <th>1002</th>\n",
       "      <td>51536</td>\n",
       "      <td>2030.520325</td>\n",
       "      <td>54337.42660</td>\n",
       "      <td>60.05970</td>\n",
       "      <td>4.274541</td>\n",
       "      <td>0</td>\n",
       "      <td>54</td>\n",
       "      <td>9</td>\n",
       "      <td>0.904023</td>\n",
       "      <td>0</td>\n",
       "      <td>4.500000</td>\n",
       "      <td>2.083333</td>\n",
       "      <td>Verde</td>\n",
       "    </tr>\n",
       "    <tr>\n",
       "      <th>1003</th>\n",
       "      <td>58250</td>\n",
       "      <td>1827.143813</td>\n",
       "      <td>92335.78323</td>\n",
       "      <td>60.71769</td>\n",
       "      <td>1.158972</td>\n",
       "      <td>7</td>\n",
       "      <td>43</td>\n",
       "      <td>4</td>\n",
       "      <td>0.787156</td>\n",
       "      <td>3</td>\n",
       "      <td>2.333333</td>\n",
       "      <td>2.835498</td>\n",
       "      <td>Rojo</td>\n",
       "    </tr>\n",
       "    <tr>\n",
       "      <th>1004</th>\n",
       "      <td>17000</td>\n",
       "      <td>1967.656566</td>\n",
       "      <td>12838.35445</td>\n",
       "      <td>52.22142</td>\n",
       "      <td>3.153082</td>\n",
       "      <td>10</td>\n",
       "      <td>13</td>\n",
       "      <td>3</td>\n",
       "      <td>0.912407</td>\n",
       "      <td>0</td>\n",
       "      <td>0.000000</td>\n",
       "      <td>1.000000</td>\n",
       "      <td>Rojo</td>\n",
       "    </tr>\n",
       "    <tr>\n",
       "      <th>1005</th>\n",
       "      <td>129929</td>\n",
       "      <td>1936.513072</td>\n",
       "      <td>49989.50916</td>\n",
       "      <td>58.46688</td>\n",
       "      <td>3.357602</td>\n",
       "      <td>34</td>\n",
       "      <td>42</td>\n",
       "      <td>16</td>\n",
       "      <td>0.798126</td>\n",
       "      <td>3</td>\n",
       "      <td>23.113636</td>\n",
       "      <td>80.622222</td>\n",
       "      <td>Rojo</td>\n",
       "    </tr>\n",
       "    <tr>\n",
       "      <th>...</th>\n",
       "      <td>...</td>\n",
       "      <td>...</td>\n",
       "      <td>...</td>\n",
       "      <td>...</td>\n",
       "      <td>...</td>\n",
       "      <td>...</td>\n",
       "      <td>...</td>\n",
       "      <td>...</td>\n",
       "      <td>...</td>\n",
       "      <td>...</td>\n",
       "      <td>...</td>\n",
       "      <td>...</td>\n",
       "      <td>...</td>\n",
       "    </tr>\n",
       "    <tr>\n",
       "      <th>32054</th>\n",
       "      <td>19446</td>\n",
       "      <td>2167.903226</td>\n",
       "      <td>37142.59866</td>\n",
       "      <td>58.41954</td>\n",
       "      <td>5.038430</td>\n",
       "      <td>11</td>\n",
       "      <td>31</td>\n",
       "      <td>3</td>\n",
       "      <td>0.794049</td>\n",
       "      <td>0</td>\n",
       "      <td>0.000000</td>\n",
       "      <td>2.000000</td>\n",
       "      <td>Rojo</td>\n",
       "    </tr>\n",
       "    <tr>\n",
       "      <th>32055</th>\n",
       "      <td>31558</td>\n",
       "      <td>1962.535211</td>\n",
       "      <td>215650.56020</td>\n",
       "      <td>61.17057</td>\n",
       "      <td>3.174213</td>\n",
       "      <td>4</td>\n",
       "      <td>10</td>\n",
       "      <td>2</td>\n",
       "      <td>0.726474</td>\n",
       "      <td>46</td>\n",
       "      <td>0.000000</td>\n",
       "      <td>3.076923</td>\n",
       "      <td>Rojo</td>\n",
       "    </tr>\n",
       "    <tr>\n",
       "      <th>32056</th>\n",
       "      <td>149607</td>\n",
       "      <td>2263.314961</td>\n",
       "      <td>43682.10105</td>\n",
       "      <td>60.79104</td>\n",
       "      <td>3.129201</td>\n",
       "      <td>5</td>\n",
       "      <td>22</td>\n",
       "      <td>2</td>\n",
       "      <td>0.785869</td>\n",
       "      <td>0</td>\n",
       "      <td>13.555556</td>\n",
       "      <td>9.888060</td>\n",
       "      <td>Rojo</td>\n",
       "    </tr>\n",
       "    <tr>\n",
       "      <th>32057</th>\n",
       "      <td>20455</td>\n",
       "      <td>2136.738095</td>\n",
       "      <td>21844.70067</td>\n",
       "      <td>55.98486</td>\n",
       "      <td>3.752207</td>\n",
       "      <td>8</td>\n",
       "      <td>9</td>\n",
       "      <td>2</td>\n",
       "      <td>0.843648</td>\n",
       "      <td>0</td>\n",
       "      <td>0.000000</td>\n",
       "      <td>2.100000</td>\n",
       "      <td>Verde</td>\n",
       "    </tr>\n",
       "    <tr>\n",
       "      <th>32058</th>\n",
       "      <td>2767</td>\n",
       "      <td>2027.951220</td>\n",
       "      <td>27566.66478</td>\n",
       "      <td>0.00000</td>\n",
       "      <td>2.089186</td>\n",
       "      <td>0</td>\n",
       "      <td>10</td>\n",
       "      <td>1</td>\n",
       "      <td>0.710850</td>\n",
       "      <td>0</td>\n",
       "      <td>0.000000</td>\n",
       "      <td>2.100000</td>\n",
       "      <td>NaN</td>\n",
       "    </tr>\n",
       "  </tbody>\n",
       "</table>\n",
       "<p>2469 rows × 13 columns</p>\n",
       "</div>"
      ],
      "text/plain": [
       "        POB_TOTAL      ALTITUD          AREA  UMBRAL12H  PORCENTA_1  agua_AR  \\\n",
       "CVEGEO                                                                         \n",
       "1001       948990  1918.046196  116635.92480   57.80700    4.829056       91   \n",
       "1002        51536  2030.520325   54337.42660   60.05970    4.274541        0   \n",
       "1003        58250  1827.143813   92335.78323   60.71769    1.158972        7   \n",
       "1004        17000  1967.656566   12838.35445   52.22142    3.153082       10   \n",
       "1005       129929  1936.513072   49989.50916   58.46688    3.357602       34   \n",
       "...           ...          ...           ...        ...         ...      ...   \n",
       "32054       19446  2167.903226   37142.59866   58.41954    5.038430       11   \n",
       "32055       31558  1962.535211  215650.56020   61.17057    3.174213        4   \n",
       "32056      149607  2263.314961   43682.10105   60.79104    3.129201        5   \n",
       "32057       20455  2136.738095   21844.70067   55.98486    3.752207        8   \n",
       "32058        2767  2027.951220   27566.66478    0.00000    2.089186        0   \n",
       "\n",
       "        agua_FC  agua_PT  avg_impact  avg_agricultura  avg_construccion  \\\n",
       "CVEGEO                                                                    \n",
       "1001        226       24    0.900702               21         24.193751   \n",
       "1002         54        9    0.904023                0          4.500000   \n",
       "1003         43        4    0.787156                3          2.333333   \n",
       "1004         13        3    0.912407                0          0.000000   \n",
       "1005         42       16    0.798126                3         23.113636   \n",
       "...         ...      ...         ...              ...               ...   \n",
       "32054        31        3    0.794049                0          0.000000   \n",
       "32055        10        2    0.726474               46          0.000000   \n",
       "32056        22        2    0.785869                0         13.555556   \n",
       "32057         9        2    0.843648                0          0.000000   \n",
       "32058        10        1    0.710850                0          0.000000   \n",
       "\n",
       "        avg_manufactura semaforo  \n",
       "CVEGEO                            \n",
       "1001          44.979780     Rojo  \n",
       "1002           2.083333    Verde  \n",
       "1003           2.835498     Rojo  \n",
       "1004           1.000000     Rojo  \n",
       "1005          80.622222     Rojo  \n",
       "...                 ...      ...  \n",
       "32054          2.000000     Rojo  \n",
       "32055          3.076923     Rojo  \n",
       "32056          9.888060     Rojo  \n",
       "32057          2.100000    Verde  \n",
       "32058          2.100000      NaN  \n",
       "\n",
       "[2469 rows x 13 columns]"
      ]
     },
     "execution_count": 98,
     "metadata": {},
     "output_type": "execute_result"
    }
   ],
   "source": [
    "# Load dataset \n",
    "df = pd.read_csv(\"AllData.csv\")\n",
    "df.set_index(\"CVEGEO\", inplace=True)\n",
    "df = df.drop(labels=[\"NOM_ENT\",\"NOM_MUN\"], axis = 1)\n",
    "\n",
    "# Display data\n",
    "df"
   ]
  },
  {
   "cell_type": "markdown",
   "id": "099943e3",
   "metadata": {},
   "source": [
    "The dataset consists of 2,469 rows and 13 columns, representing various geographical and environmental factors related to water quality assessment.\n",
    "- **CVEGEO**: Unique geographical identifier for each municipality. \n",
    "- **POB_TOTAL**: Total population for each municipality.\n",
    "- **ALTITUD**: Altitude of each municipality (in meters).\n",
    "- **AREA**: Total area of each municipality (in square units).\n",
    "- **UMBRAL12H**: \n",
    "- **PORCENTA_1**: \n",
    "- **agua_AR**\n",
    "- **agua_FC**\n",
    "- **agua_PT**\n",
    "- **avg_impact**: Average human impact factor.\n",
    "- **avg_agricultura**, **avg_construccion**, **avg_manufactura**: Average levels of agricultural, construction, and manufacturing activities in the region.\n",
    "- **semaforo**: Water quality indicator (Rojo = High risk, Amarillo = Moderate risk, Verde = Low risk, NaN = Missing data)."
   ]
  },
  {
   "cell_type": "markdown",
   "id": "95d6cc0c",
   "metadata": {},
   "source": [
    "### Data Preprocessing and Normalization"
   ]
  },
  {
   "cell_type": "code",
   "execution_count": 99,
   "id": "0d6223c1",
   "metadata": {},
   "outputs": [
    {
     "name": "stderr",
     "output_type": "stream",
     "text": [
      "/tmp/ipykernel_16748/600009329.py:13: SettingWithCopyWarning: \n",
      "A value is trying to be set on a copy of a slice from a DataFrame\n",
      "\n",
      "See the caveats in the documentation: https://pandas.pydata.org/pandas-docs/stable/user_guide/indexing.html#returning-a-view-versus-a-copy\n",
      "  X_labeled.drop(labels = \"semaforo\", axis = 1, inplace=True)\n",
      "/tmp/ipykernel_16748/600009329.py:17: SettingWithCopyWarning: \n",
      "A value is trying to be set on a copy of a slice from a DataFrame\n",
      "\n",
      "See the caveats in the documentation: https://pandas.pydata.org/pandas-docs/stable/user_guide/indexing.html#returning-a-view-versus-a-copy\n",
      "  X_unlabeled.drop(labels = \"semaforo\", axis = 1, inplace=True)\n"
     ]
    }
   ],
   "source": [
    "# Scaling data\n",
    "scaler = StandardScaler()\n",
    "X_scaled = scaler.fit_transform(df.drop(columns=[\"semaforo\"]))\n",
    "                          \n",
    "X_scaled_df = pd.DataFrame(X_scaled, index=df.index, columns=df.drop(columns=[\"semaforo\"]).columns)\n",
    "X_scaled_df['semaforo'] = df['semaforo']\n",
    "\n",
    "## Labeled/Unlabeled Data Separation\n",
    "X_labeled = X_scaled_df[X_scaled_df[\"semaforo\"].notna()]\n",
    "\n",
    "y = X_labeled['semaforo'] # target labels\n",
    "\n",
    "X_labeled.drop(labels = \"semaforo\", axis = 1, inplace=True)\n",
    "\n",
    "# Unlabeled samples \n",
    "X_unlabeled = X_scaled_df[X_scaled_df[\"semaforo\"].isna()]\n",
    "X_unlabeled.drop(labels = \"semaforo\", axis = 1, inplace=True)\n",
    "\n",
    "# Encoding 'semaforo' column into numerical labels\n",
    "le = LabelEncoder()\n",
    "y_encoded = le.fit_transform(y)\n",
    "\n",
    "y_encoded = pd.DataFrame(y_encoded, index=X_labeled.index, columns=['semaforo_encoded'])\n",
    "y_encoded = y_encoded.astype(int)\n",
    "\n",
    "# Dataset with encondig values\n",
    "y_df = pd.DataFrame(y_encoded, index=y.index, columns=['semaforo_encoded'])\n",
    "y_df[\"semaforo_encoded\"] = y_df[\"semaforo_encoded\"].replace(3, -1)"
   ]
  },
  {
   "cell_type": "markdown",
   "id": "ba67f228",
   "metadata": {},
   "source": [
    "### Train-Test Split\n",
    "\n",
    "Split the labeled dataset into training and testing sets\n",
    "- 20% of the data is reserved for testing \n",
    "- 80% of the data is used for training"
   ]
  },
  {
   "cell_type": "code",
   "execution_count": 100,
   "id": "f0c5cc7c",
   "metadata": {},
   "outputs": [
    {
     "name": "stdout",
     "output_type": "stream",
     "text": [
      "Train set: x_train = (836, 12) y_train = (836, 1)\n",
      "\n",
      "Mapping of categorical labels to numeric values\n",
      "Amarillo → 0\n",
      "Rojo → 1\n",
      "Verde → 2\n"
     ]
    }
   ],
   "source": [
    "x_train, x_test, y_train, y_test = train_test_split(X_labeled, y_df, test_size=0.2, random_state=42, stratify=y_df)\n",
    "\n",
    "print(f\"Train set: x_train = {x_train.shape} y_train = {y_train.shape}\")\n",
    "\n",
    "# Display mapping of categorical labels \n",
    "print(\"\\nMapping of categorical labels to numeric values\")\n",
    "for index, label in enumerate(le.classes_):\n",
    "    print(f\"{label} → {index}\")"
   ]
  },
  {
   "cell_type": "markdown",
   "id": "d869de43",
   "metadata": {},
   "source": [
    "### Semi-Supervised Learning (SSL)\n",
    "\n",
    "In this study, a SSL approach was employed to make use of both labeled and unlabeled data. \n",
    "\n",
    "It followed a self-training paradigm, in which an initial classifier trained on labeled data was iteratively refined using high-confidence predictions on unlabeled examples as pseudo-labels. Self-training was used along with an ensemble of three classification algorithms: **XGBoost**, **CatBoost** and **Random Forest**. Proposed SSL model architecture is presented in Figure 1.\n",
    "\n",
    "<div style=\"text-align: center;\">\n",
    "    <img src=\"images/architecture.png\" width=\"650\">\n",
    "    <p style=\"font-size:14px; color:gray;\">Figure 1: Proposed SSL Model Architecture</p>\n",
    "</div>\n",
    "\n",
    "Selection strategy (Figure 2) for this model is very simple, where prediction probabilities are averaged for each class. If the maximum average surpasses the 0.9 threshold, the label of the said class is assigned to the municipality. \n",
    "\n",
    "<div style=\"text-align: center;\">\n",
    "    <img src=\"images/selection_strategy.png\" width=\"500\" style=\"background-color: white; padding: 10px;\">\n",
    "    <p style=\"font-size:14px; color:gray;\">Figure 2: Selection Strategy</p>\n",
    "</div>\n"
   ]
  },
  {
   "cell_type": "code",
   "execution_count": 101,
   "id": "078724a9",
   "metadata": {},
   "outputs": [],
   "source": [
    "# Supervised Learning Models\n",
    "models = [CatBoostClassifier(iterations=500, class_weights={1: 0.31, 0: 0.42, 2: .27}, verbose=0),\n",
    "        XGBClassifier(max_depth=5, reg_alpha=1),\n",
    "        RandomForestClassifier(max_samples=0.5, class_weight={1: 0.31, 0: 0.42, 2: .27})\n",
    "]"
   ]
  },
  {
   "cell_type": "markdown",
   "id": "ce6d88a4",
   "metadata": {},
   "source": [
    "### Training SSL Ensamble Model"
   ]
  },
  {
   "cell_type": "code",
   "execution_count": 102,
   "id": "379977ef",
   "metadata": {},
   "outputs": [
    {
     "name": "stdout",
     "output_type": "stream",
     "text": [
      "\n",
      "Iteration 1\n",
      "(836, 12) [1 0 2]\n"
     ]
    },
    {
     "name": "stderr",
     "output_type": "stream",
     "text": [
      "/home/horte/.local/lib/python3.10/site-packages/sklearn/base.py:1389: DataConversionWarning: A column-vector y was passed when a 1d array was expected. Please change the shape of y to (n_samples,), for example using ravel().\n",
      "  return fit_method(estimator, *args, **kwargs)\n"
     ]
    },
    {
     "name": "stdout",
     "output_type": "stream",
     "text": [
      "Model 0 predicted class distribution: {0: 624, 1: 410, 2: 389}\n",
      "Model 1 predicted class distribution: {0: 505, 1: 450, 2: 468}\n",
      "Model 2 predicted class distribution: {0: 606, 1: 510, 2: 307}\n",
      "Class distribution of added pseudo-labels: {2: 52}\n",
      "Added 52 new pseudo-labeled points.\n",
      "\n",
      "Iteration 2\n",
      "(888, 12) [1 0 2]\n"
     ]
    },
    {
     "name": "stderr",
     "output_type": "stream",
     "text": [
      "/home/horte/.local/lib/python3.10/site-packages/sklearn/base.py:1389: DataConversionWarning: A column-vector y was passed when a 1d array was expected. Please change the shape of y to (n_samples,), for example using ravel().\n",
      "  return fit_method(estimator, *args, **kwargs)\n"
     ]
    },
    {
     "name": "stdout",
     "output_type": "stream",
     "text": [
      "Model 0 predicted class distribution: {0: 519, 1: 420, 2: 432}\n",
      "Model 1 predicted class distribution: {0: 448, 1: 411, 2: 512}\n",
      "Model 2 predicted class distribution: {0: 383, 1: 467, 2: 521}\n",
      "Class distribution of added pseudo-labels: {2: 149}\n",
      "Added 149 new pseudo-labeled points.\n",
      "\n",
      "Iteration 3\n",
      "(1037, 12) [1 0 2]\n"
     ]
    },
    {
     "name": "stderr",
     "output_type": "stream",
     "text": [
      "/home/horte/.local/lib/python3.10/site-packages/sklearn/base.py:1389: DataConversionWarning: A column-vector y was passed when a 1d array was expected. Please change the shape of y to (n_samples,), for example using ravel().\n",
      "  return fit_method(estimator, *args, **kwargs)\n"
     ]
    },
    {
     "name": "stdout",
     "output_type": "stream",
     "text": [
      "Model 0 predicted class distribution: {0: 451, 1: 344, 2: 427}\n",
      "Model 1 predicted class distribution: {0: 374, 1: 365, 2: 483}\n",
      "Model 2 predicted class distribution: {0: 298, 1: 328, 2: 596}\n",
      "Class distribution of added pseudo-labels: {2: 161}\n",
      "Added 161 new pseudo-labeled points.\n",
      "\n",
      "Iteration 4\n",
      "(1198, 12) [1 0 2]\n"
     ]
    },
    {
     "name": "stderr",
     "output_type": "stream",
     "text": [
      "/home/horte/.local/lib/python3.10/site-packages/sklearn/base.py:1389: DataConversionWarning: A column-vector y was passed when a 1d array was expected. Please change the shape of y to (n_samples,), for example using ravel().\n",
      "  return fit_method(estimator, *args, **kwargs)\n"
     ]
    },
    {
     "name": "stdout",
     "output_type": "stream",
     "text": [
      "Model 0 predicted class distribution: {0: 352, 1: 299, 2: 410}\n",
      "Model 1 predicted class distribution: {0: 313, 1: 309, 2: 439}\n",
      "Model 2 predicted class distribution: {0: 220, 1: 282, 2: 559}\n",
      "Class distribution of added pseudo-labels: {2: 162}\n",
      "Added 162 new pseudo-labeled points.\n",
      "\n",
      "Iteration 5\n",
      "(1360, 12) [1 0 2]\n"
     ]
    },
    {
     "name": "stderr",
     "output_type": "stream",
     "text": [
      "/home/horte/.local/lib/python3.10/site-packages/sklearn/base.py:1389: DataConversionWarning: A column-vector y was passed when a 1d array was expected. Please change the shape of y to (n_samples,), for example using ravel().\n",
      "  return fit_method(estimator, *args, **kwargs)\n"
     ]
    },
    {
     "name": "stdout",
     "output_type": "stream",
     "text": [
      "Model 0 predicted class distribution: {0: 309, 1: 230, 2: 360}\n",
      "Model 1 predicted class distribution: {0: 271, 1: 234, 2: 394}\n",
      "Model 2 predicted class distribution: {0: 196, 1: 245, 2: 458}\n",
      "Class distribution of added pseudo-labels: {2: 186}\n",
      "Added 186 new pseudo-labeled points.\n",
      "\n",
      "Iteration 6\n",
      "(1546, 12) [1 0 2]\n"
     ]
    },
    {
     "name": "stderr",
     "output_type": "stream",
     "text": [
      "/home/horte/.local/lib/python3.10/site-packages/sklearn/base.py:1389: DataConversionWarning: A column-vector y was passed when a 1d array was expected. Please change the shape of y to (n_samples,), for example using ravel().\n",
      "  return fit_method(estimator, *args, **kwargs)\n"
     ]
    },
    {
     "name": "stdout",
     "output_type": "stream",
     "text": [
      "Model 0 predicted class distribution: {0: 256, 1: 213, 2: 244}\n",
      "Model 1 predicted class distribution: {0: 247, 1: 204, 2: 262}\n",
      "Model 2 predicted class distribution: {0: 180, 1: 191, 2: 342}\n",
      "Class distribution of added pseudo-labels: {2: 94}\n",
      "Added 94 new pseudo-labeled points.\n",
      "\n",
      "Iteration 7\n",
      "(1640, 12) [1 0 2]\n"
     ]
    },
    {
     "name": "stderr",
     "output_type": "stream",
     "text": [
      "/home/horte/.local/lib/python3.10/site-packages/sklearn/base.py:1389: DataConversionWarning: A column-vector y was passed when a 1d array was expected. Please change the shape of y to (n_samples,), for example using ravel().\n",
      "  return fit_method(estimator, *args, **kwargs)\n"
     ]
    },
    {
     "name": "stdout",
     "output_type": "stream",
     "text": [
      "Model 0 predicted class distribution: {0: 241, 1: 185, 2: 193}\n",
      "Model 1 predicted class distribution: {0: 226, 1: 195, 2: 198}\n",
      "Model 2 predicted class distribution: {0: 171, 1: 188, 2: 260}\n",
      "Class distribution of added pseudo-labels: {2: 48}\n",
      "Added 48 new pseudo-labeled points.\n",
      "\n",
      "Iteration 8\n",
      "(1688, 12) [1 0 2]\n"
     ]
    },
    {
     "name": "stderr",
     "output_type": "stream",
     "text": [
      "/home/horte/.local/lib/python3.10/site-packages/sklearn/base.py:1389: DataConversionWarning: A column-vector y was passed when a 1d array was expected. Please change the shape of y to (n_samples,), for example using ravel().\n",
      "  return fit_method(estimator, *args, **kwargs)\n"
     ]
    },
    {
     "name": "stdout",
     "output_type": "stream",
     "text": [
      "Model 0 predicted class distribution: {0: 239, 1: 176, 2: 156}\n",
      "Model 1 predicted class distribution: {0: 225, 1: 184, 2: 162}\n",
      "Model 2 predicted class distribution: {0: 163, 1: 178, 2: 230}\n",
      "Class distribution of added pseudo-labels: {2: 29}\n",
      "Added 29 new pseudo-labeled points.\n",
      "\n",
      "Iteration 9\n",
      "(1717, 12) [1 0 2]\n"
     ]
    },
    {
     "name": "stderr",
     "output_type": "stream",
     "text": [
      "/home/horte/.local/lib/python3.10/site-packages/sklearn/base.py:1389: DataConversionWarning: A column-vector y was passed when a 1d array was expected. Please change the shape of y to (n_samples,), for example using ravel().\n",
      "  return fit_method(estimator, *args, **kwargs)\n"
     ]
    },
    {
     "name": "stdout",
     "output_type": "stream",
     "text": [
      "Model 0 predicted class distribution: {0: 231, 1: 173, 2: 138}\n",
      "Model 1 predicted class distribution: {0: 204, 1: 183, 2: 155}\n",
      "Model 2 predicted class distribution: {0: 158, 1: 168, 2: 216}\n",
      "Class distribution of added pseudo-labels: {2: 21}\n",
      "Added 21 new pseudo-labeled points.\n",
      "\n",
      "Iteration 10\n",
      "(1738, 12) [1 0 2]\n"
     ]
    },
    {
     "name": "stderr",
     "output_type": "stream",
     "text": [
      "/home/horte/.local/lib/python3.10/site-packages/sklearn/base.py:1389: DataConversionWarning: A column-vector y was passed when a 1d array was expected. Please change the shape of y to (n_samples,), for example using ravel().\n",
      "  return fit_method(estimator, *args, **kwargs)\n"
     ]
    },
    {
     "name": "stdout",
     "output_type": "stream",
     "text": [
      "Model 0 predicted class distribution: {0: 226, 1: 172, 2: 123}\n",
      "Model 1 predicted class distribution: {0: 207, 1: 168, 2: 146}\n",
      "Model 2 predicted class distribution: {0: 153, 1: 154, 2: 214}\n",
      "Class distribution of added pseudo-labels: {2: 16}\n",
      "Added 16 new pseudo-labeled points.\n",
      "\n",
      "Iteration 11\n",
      "(1754, 12) [1 0 2]\n"
     ]
    },
    {
     "name": "stderr",
     "output_type": "stream",
     "text": [
      "/home/horte/.local/lib/python3.10/site-packages/sklearn/base.py:1389: DataConversionWarning: A column-vector y was passed when a 1d array was expected. Please change the shape of y to (n_samples,), for example using ravel().\n",
      "  return fit_method(estimator, *args, **kwargs)\n"
     ]
    },
    {
     "name": "stdout",
     "output_type": "stream",
     "text": [
      "Model 0 predicted class distribution: {0: 227, 1: 166, 2: 112}\n",
      "Model 1 predicted class distribution: {0: 199, 1: 171, 2: 135}\n",
      "Model 2 predicted class distribution: {0: 154, 1: 156, 2: 195}\n",
      "Class distribution of added pseudo-labels: {2: 11}\n",
      "Added 11 new pseudo-labeled points.\n",
      "\n",
      "Iteration 12\n",
      "(1765, 12) [1 0 2]\n"
     ]
    },
    {
     "name": "stderr",
     "output_type": "stream",
     "text": [
      "/home/horte/.local/lib/python3.10/site-packages/sklearn/base.py:1389: DataConversionWarning: A column-vector y was passed when a 1d array was expected. Please change the shape of y to (n_samples,), for example using ravel().\n",
      "  return fit_method(estimator, *args, **kwargs)\n"
     ]
    },
    {
     "name": "stdout",
     "output_type": "stream",
     "text": [
      "Model 0 predicted class distribution: {0: 199, 1: 165, 2: 130}\n",
      "Model 1 predicted class distribution: {0: 191, 1: 177, 2: 126}\n",
      "Model 2 predicted class distribution: {0: 141, 1: 156, 2: 197}\n",
      "Class distribution of added pseudo-labels: {2: 12}\n",
      "Added 12 new pseudo-labeled points.\n",
      "\n",
      "Iteration 13\n",
      "(1777, 12) [1 0 2]\n"
     ]
    },
    {
     "name": "stderr",
     "output_type": "stream",
     "text": [
      "/home/horte/.local/lib/python3.10/site-packages/sklearn/base.py:1389: DataConversionWarning: A column-vector y was passed when a 1d array was expected. Please change the shape of y to (n_samples,), for example using ravel().\n",
      "  return fit_method(estimator, *args, **kwargs)\n"
     ]
    },
    {
     "name": "stdout",
     "output_type": "stream",
     "text": [
      "Model 0 predicted class distribution: {0: 212, 1: 162, 2: 108}\n",
      "Model 1 predicted class distribution: {0: 192, 1: 167, 2: 123}\n",
      "Model 2 predicted class distribution: {0: 165, 1: 152, 2: 165}\n",
      "Class distribution of added pseudo-labels: {2: 4}\n",
      "Added 4 new pseudo-labeled points.\n",
      "\n",
      "Iteration 14\n",
      "(1781, 12) [1 0 2]\n"
     ]
    },
    {
     "name": "stderr",
     "output_type": "stream",
     "text": [
      "/home/horte/.local/lib/python3.10/site-packages/sklearn/base.py:1389: DataConversionWarning: A column-vector y was passed when a 1d array was expected. Please change the shape of y to (n_samples,), for example using ravel().\n",
      "  return fit_method(estimator, *args, **kwargs)\n"
     ]
    },
    {
     "name": "stdout",
     "output_type": "stream",
     "text": [
      "Model 0 predicted class distribution: {0: 213, 1: 158, 2: 107}\n",
      "Model 1 predicted class distribution: {0: 201, 1: 169, 2: 108}\n",
      "Model 2 predicted class distribution: {0: 141, 1: 154, 2: 183}\n",
      "Class distribution of added pseudo-labels: {2: 4}\n",
      "Added 4 new pseudo-labeled points.\n",
      "\n",
      "Iteration 15\n",
      "(1785, 12) [1 0 2]\n"
     ]
    },
    {
     "name": "stderr",
     "output_type": "stream",
     "text": [
      "/home/horte/.local/lib/python3.10/site-packages/sklearn/base.py:1389: DataConversionWarning: A column-vector y was passed when a 1d array was expected. Please change the shape of y to (n_samples,), for example using ravel().\n",
      "  return fit_method(estimator, *args, **kwargs)\n"
     ]
    },
    {
     "name": "stdout",
     "output_type": "stream",
     "text": [
      "Model 0 predicted class distribution: {0: 208, 1: 172, 2: 94}\n",
      "Model 1 predicted class distribution: {0: 194, 1: 169, 2: 111}\n",
      "Model 2 predicted class distribution: {0: 145, 1: 156, 2: 173}\n",
      "Class distribution of added pseudo-labels: {2: 6}\n",
      "Added 6 new pseudo-labeled points.\n",
      "\n",
      "Iteration 16\n",
      "(1791, 12) [1 0 2]\n"
     ]
    },
    {
     "name": "stderr",
     "output_type": "stream",
     "text": [
      "/home/horte/.local/lib/python3.10/site-packages/sklearn/base.py:1389: DataConversionWarning: A column-vector y was passed when a 1d array was expected. Please change the shape of y to (n_samples,), for example using ravel().\n",
      "  return fit_method(estimator, *args, **kwargs)\n"
     ]
    },
    {
     "name": "stdout",
     "output_type": "stream",
     "text": [
      "Model 0 predicted class distribution: {0: 209, 1: 162, 2: 97}\n",
      "Model 1 predicted class distribution: {0: 191, 1: 164, 2: 113}\n",
      "Model 2 predicted class distribution: {0: 150, 1: 156, 2: 162}\n",
      "Class distribution of added pseudo-labels: {2: 6}\n",
      "Added 6 new pseudo-labeled points.\n",
      "\n",
      "Iteration 17\n",
      "(1797, 12) [1 0 2]\n"
     ]
    },
    {
     "name": "stderr",
     "output_type": "stream",
     "text": [
      "/home/horte/.local/lib/python3.10/site-packages/sklearn/base.py:1389: DataConversionWarning: A column-vector y was passed when a 1d array was expected. Please change the shape of y to (n_samples,), for example using ravel().\n",
      "  return fit_method(estimator, *args, **kwargs)\n"
     ]
    },
    {
     "name": "stdout",
     "output_type": "stream",
     "text": [
      "Model 0 predicted class distribution: {0: 199, 1: 162, 2: 101}\n",
      "Model 1 predicted class distribution: {0: 187, 1: 164, 2: 111}\n",
      "Model 2 predicted class distribution: {0: 157, 1: 150, 2: 155}\n",
      "Class distribution of added pseudo-labels: {2: 2}\n",
      "Added 2 new pseudo-labeled points.\n",
      "\n",
      "Iteration 18\n",
      "(1799, 12) [1 0 2]\n"
     ]
    },
    {
     "name": "stderr",
     "output_type": "stream",
     "text": [
      "/home/horte/.local/lib/python3.10/site-packages/sklearn/base.py:1389: DataConversionWarning: A column-vector y was passed when a 1d array was expected. Please change the shape of y to (n_samples,), for example using ravel().\n",
      "  return fit_method(estimator, *args, **kwargs)\n"
     ]
    },
    {
     "name": "stdout",
     "output_type": "stream",
     "text": [
      "Model 0 predicted class distribution: {0: 193, 1: 165, 2: 102}\n",
      "Model 1 predicted class distribution: {0: 188, 1: 161, 2: 111}\n",
      "Model 2 predicted class distribution: {0: 148, 1: 147, 2: 165}\n",
      "Class distribution of added pseudo-labels: {2: 2}\n",
      "Added 2 new pseudo-labeled points.\n",
      "\n",
      "Iteration 19\n",
      "(1801, 12) [1 0 2]\n"
     ]
    },
    {
     "name": "stderr",
     "output_type": "stream",
     "text": [
      "/home/horte/.local/lib/python3.10/site-packages/sklearn/base.py:1389: DataConversionWarning: A column-vector y was passed when a 1d array was expected. Please change the shape of y to (n_samples,), for example using ravel().\n",
      "  return fit_method(estimator, *args, **kwargs)\n"
     ]
    },
    {
     "name": "stdout",
     "output_type": "stream",
     "text": [
      "Model 0 predicted class distribution: {0: 196, 1: 163, 2: 99}\n",
      "Model 1 predicted class distribution: {0: 195, 1: 158, 2: 105}\n",
      "Model 2 predicted class distribution: {0: 146, 1: 159, 2: 153}\n",
      "Class distribution of added pseudo-labels: {2: 4}\n",
      "Added 4 new pseudo-labeled points.\n",
      "\n",
      "Iteration 20\n",
      "(1805, 12) [1 0 2]\n"
     ]
    },
    {
     "name": "stderr",
     "output_type": "stream",
     "text": [
      "/home/horte/.local/lib/python3.10/site-packages/sklearn/base.py:1389: DataConversionWarning: A column-vector y was passed when a 1d array was expected. Please change the shape of y to (n_samples,), for example using ravel().\n",
      "  return fit_method(estimator, *args, **kwargs)\n"
     ]
    },
    {
     "name": "stdout",
     "output_type": "stream",
     "text": [
      "Model 0 predicted class distribution: {0: 195, 1: 157, 2: 102}\n",
      "Model 1 predicted class distribution: {0: 185, 1: 164, 2: 105}\n",
      "Model 2 predicted class distribution: {0: 144, 1: 146, 2: 164}\n",
      "Class distribution of added pseudo-labels: {2: 3}\n",
      "Added 3 new pseudo-labeled points.\n",
      "\n",
      "Iteration 21\n",
      "(1808, 12) [1 0 2]\n"
     ]
    },
    {
     "name": "stderr",
     "output_type": "stream",
     "text": [
      "/home/horte/.local/lib/python3.10/site-packages/sklearn/base.py:1389: DataConversionWarning: A column-vector y was passed when a 1d array was expected. Please change the shape of y to (n_samples,), for example using ravel().\n",
      "  return fit_method(estimator, *args, **kwargs)\n"
     ]
    },
    {
     "name": "stdout",
     "output_type": "stream",
     "text": [
      "Model 0 predicted class distribution: {0: 205, 1: 153, 2: 93}\n",
      "Model 1 predicted class distribution: {0: 187, 1: 151, 2: 113}\n",
      "Model 2 predicted class distribution: {0: 158, 1: 145, 2: 148}\n",
      "Class distribution of added pseudo-labels: {2: 3}\n",
      "Added 3 new pseudo-labeled points.\n",
      "\n",
      "Iteration 22\n",
      "(1811, 12) [1 0 2]\n"
     ]
    },
    {
     "name": "stderr",
     "output_type": "stream",
     "text": [
      "/home/horte/.local/lib/python3.10/site-packages/sklearn/base.py:1389: DataConversionWarning: A column-vector y was passed when a 1d array was expected. Please change the shape of y to (n_samples,), for example using ravel().\n",
      "  return fit_method(estimator, *args, **kwargs)\n"
     ]
    },
    {
     "name": "stdout",
     "output_type": "stream",
     "text": [
      "Model 0 predicted class distribution: {0: 191, 1: 153, 2: 104}\n",
      "Model 1 predicted class distribution: {0: 185, 1: 166, 2: 97}\n",
      "Model 2 predicted class distribution: {0: 147, 1: 147, 2: 154}\n",
      "Class distribution of added pseudo-labels: {2: 1}\n",
      "Added 1 new pseudo-labeled points.\n",
      "\n",
      "Iteration 23\n",
      "(1812, 12) [1 0 2]\n"
     ]
    },
    {
     "name": "stderr",
     "output_type": "stream",
     "text": [
      "/home/horte/.local/lib/python3.10/site-packages/sklearn/base.py:1389: DataConversionWarning: A column-vector y was passed when a 1d array was expected. Please change the shape of y to (n_samples,), for example using ravel().\n",
      "  return fit_method(estimator, *args, **kwargs)\n"
     ]
    },
    {
     "name": "stdout",
     "output_type": "stream",
     "text": [
      "Model 0 predicted class distribution: {0: 191, 1: 158, 2: 98}\n",
      "Model 1 predicted class distribution: {0: 188, 1: 158, 2: 101}\n",
      "Model 2 predicted class distribution: {0: 151, 1: 142, 2: 154}\n",
      "Class distribution of added pseudo-labels: {2: 1}\n",
      "Added 1 new pseudo-labeled points.\n",
      "\n",
      "Iteration 24\n",
      "(1813, 12) [1 0 2]\n"
     ]
    },
    {
     "name": "stderr",
     "output_type": "stream",
     "text": [
      "/home/horte/.local/lib/python3.10/site-packages/sklearn/base.py:1389: DataConversionWarning: A column-vector y was passed when a 1d array was expected. Please change the shape of y to (n_samples,), for example using ravel().\n",
      "  return fit_method(estimator, *args, **kwargs)\n"
     ]
    },
    {
     "name": "stdout",
     "output_type": "stream",
     "text": [
      "Model 0 predicted class distribution: {0: 193, 1: 160, 2: 93}\n",
      "Model 1 predicted class distribution: {0: 180, 1: 162, 2: 104}\n",
      "Model 2 predicted class distribution: {0: 153, 1: 143, 2: 150}\n",
      "No more confident pseudo-labels found.\n"
     ]
    }
   ],
   "source": [
    "# Confidence threshold\n",
    "threshold = 0.7  \n",
    "\n",
    "# maximum training iterations\n",
    "max_iter = 50\n",
    "\n",
    "\n",
    "for iteration in range(max_iter):\n",
    "\n",
    "    print(f\"\\nIteration {iteration + 1}\")\n",
    "    \n",
    "    print(x_train.shape, y_train['semaforo_encoded'].unique())\n",
    "\n",
    "    # Train each model\n",
    "    for model in models:\n",
    "        model.fit(x_train, y_train)\n",
    "    \n",
    "    # Get predicted probabilities\n",
    "    probas = [model.predict_proba(X_unlabeled) for model in models]\n",
    "  \n",
    "\n",
    "    for i, model in enumerate(models):\n",
    "        model_preds = model.predict(X_unlabeled)\n",
    "        unique, counts = np.unique(model_preds, return_counts=True)\n",
    "        print(f\"Model {i} predicted class distribution: {dict(zip(unique, counts))}\")\n",
    "\n",
    "    # Average probabilities    \n",
    "    avg_probas = np.mean(probas, axis=0)\n",
    "\n",
    "    # Get confidence and predicted class\n",
    "    max_probs = np.max(avg_probas, axis=1)\n",
    "    preds = np.argmax(avg_probas, axis=1)\n",
    "    \n",
    "    # Get boolean mask of confident predictions\n",
    "    confident_mask = pd.Series(max_probs >= threshold, index=X_unlabeled.index)\n",
    "\n",
    "    if confident_mask.sum() == 0:\n",
    "        print(\"No more confident pseudo-labels found.\")\n",
    "        break\n",
    "\n",
    "    # Select high-confidence \n",
    "    new_X = X_unlabeled.loc[confident_mask]\n",
    "    new_y = preds[confident_mask]\n",
    "\n",
    "    #Display distribution of newly added pseudo-labels\n",
    "    unique, counts = np.unique(new_y, return_counts=True)\n",
    "    dist = dict(zip(unique, counts))\n",
    "    print(f\"Class distribution of added pseudo-labels: {dist}\")\n",
    "\n",
    "    column_name = 'semaforo_encoded'\n",
    "\n",
    "    # Ensure both are DataFrames with the same column name\n",
    "    if isinstance(y_train, pd.Series):\n",
    "        y_train = y_train.to_frame(name=column_name)\n",
    "\n",
    "\n",
    "    new_y_df = pd.DataFrame(new_y, index=new_X.index, columns=[column_name])\n",
    "    y_train = pd.concat([y_train, new_y_df], axis=0)\n",
    "\n",
    "    # Update labeled on dataset\n",
    "    x_train = pd.concat([x_train, new_X], axis=0)\n",
    "\n",
    "    # Remove pseudo-labeled data from unlabeled set\n",
    "    X_unlabeled = X_unlabeled.drop(index=new_X.index)\n",
    "    \n",
    "    print(f\"Added {confident_mask.sum()} new pseudo-labeled points.\")\n"
   ]
  },
  {
   "cell_type": "markdown",
   "id": "10eed51d",
   "metadata": {},
   "source": [
    "### Testing SSL Ensamble Model"
   ]
  },
  {
   "cell_type": "code",
   "execution_count": 103,
   "id": "5464edaa",
   "metadata": {},
   "outputs": [
    {
     "name": "stdout",
     "output_type": "stream",
     "text": [
      "Ensemble Accuracy: 0.42857142857142855\n",
      "\n",
      "               precision    recall  f1-score   support\n",
      "\n",
      "           0       0.55      0.46      0.50        89\n",
      "           1       0.51      0.40      0.45        65\n",
      "           2       0.27      0.41      0.33        56\n",
      "\n",
      "    accuracy                           0.43       210\n",
      "   macro avg       0.44      0.42      0.43       210\n",
      "weighted avg       0.46      0.43      0.44       210\n",
      "\n"
     ]
    }
   ],
   "source": [
    "# Probabilities for each model\n",
    "test_probas = [model.predict_proba(x_test) for model in models]\n",
    "\n",
    "# Average probabilities across models\n",
    "avg_test_probas = np.mean(test_probas, axis=0)\n",
    "\n",
    "# Highest probability for each sample (Confidence level)\n",
    "max_probs = np.max(avg_test_probas, axis=1)\n",
    "ensemble_preds = np.argmax(avg_test_probas, axis=1)\n",
    "\n",
    "# Ensable model's performance\n",
    "print(\"Ensemble Accuracy:\", accuracy_score(y_test, ensemble_preds))\n",
    "print(\"\\n\",classification_report(y_test, ensemble_preds))"
   ]
  },
  {
   "cell_type": "markdown",
   "id": "5bd103dd",
   "metadata": {},
   "source": [
    "#### Confusion Matrix"
   ]
  },
  {
   "cell_type": "code",
   "execution_count": null,
   "id": "3b466498",
   "metadata": {},
   "outputs": [
    {
     "name": "stdout",
     "output_type": "stream",
     "text": [
      "Confusion Matrix:\n",
      " [[41 15 33]\n",
      " [11 26 28]\n",
      " [23 10 23]]\n"
     ]
    },
    {
     "data": {
      "image/png": "[encoded data removed]",
      "text/plain": [
       "<Figure size 600x400 with 2 Axes>"
      ]
     },
     "metadata": {},
     "output_type": "display_data"
    }
   ],
   "source": [
    "conf_matrix = confusion_matrix(y_test, ensemble_preds)\n",
    "\n",
    "print(\"Confusion Matrix:\\n\", conf_matrix)\n",
    "\n",
    "plt.figure(figsize=(6, 4))\n",
    "sns.heatmap(conf_matrix, annot=True, fmt=\"d\", cmap=\"Blues\", xticklabels=le.classes_, yticklabels=le.classes_)\n",
    "plt.xlabel(\"Predicted Labels\")\n",
    "plt.ylabel(\"True Labels\")\n",
    "plt.title(\"Confusion Matrix - Semi-supervised Ensemble Model\")\n",
    "plt.show()"
   ]
  },
  {
   "cell_type": "code",
   "execution_count": 105,
   "id": "2e8183b9",
   "metadata": {},
   "outputs": [
    {
     "data": {
      "text/html": [
       "<div>\n",
       "<style scoped>\n",
       "    .dataframe tbody tr th:only-of-type {\n",
       "        vertical-align: middle;\n",
       "    }\n",
       "\n",
       "    .dataframe tbody tr th {\n",
       "        vertical-align: top;\n",
       "    }\n",
       "\n",
       "    .dataframe thead th {\n",
       "        text-align: right;\n",
       "    }\n",
       "</style>\n",
       "<table border=\"1\" class=\"dataframe\">\n",
       "  <thead>\n",
       "    <tr style=\"text-align: right;\">\n",
       "      <th></th>\n",
       "      <th>semaforo_encoded</th>\n",
       "    </tr>\n",
       "    <tr>\n",
       "      <th>CVEGEO</th>\n",
       "      <th></th>\n",
       "    </tr>\n",
       "  </thead>\n",
       "  <tbody>\n",
       "    <tr>\n",
       "      <th>20039</th>\n",
       "      <td>1</td>\n",
       "    </tr>\n",
       "    <tr>\n",
       "      <th>11030</th>\n",
       "      <td>0</td>\n",
       "    </tr>\n",
       "    <tr>\n",
       "      <th>4006</th>\n",
       "      <td>1</td>\n",
       "    </tr>\n",
       "    <tr>\n",
       "      <th>31050</th>\n",
       "      <td>0</td>\n",
       "    </tr>\n",
       "    <tr>\n",
       "      <th>13069</th>\n",
       "      <td>1</td>\n",
       "    </tr>\n",
       "    <tr>\n",
       "      <th>...</th>\n",
       "      <td>...</td>\n",
       "    </tr>\n",
       "    <tr>\n",
       "      <th>12002</th>\n",
       "      <td>2</td>\n",
       "    </tr>\n",
       "    <tr>\n",
       "      <th>19028</th>\n",
       "      <td>2</td>\n",
       "    </tr>\n",
       "    <tr>\n",
       "      <th>20007</th>\n",
       "      <td>2</td>\n",
       "    </tr>\n",
       "    <tr>\n",
       "      <th>13082</th>\n",
       "      <td>2</td>\n",
       "    </tr>\n",
       "    <tr>\n",
       "      <th>30088</th>\n",
       "      <td>2</td>\n",
       "    </tr>\n",
       "  </tbody>\n",
       "</table>\n",
       "<p>1813 rows × 1 columns</p>\n",
       "</div>"
      ],
      "text/plain": [
       "        semaforo_encoded\n",
       "CVEGEO                  \n",
       "20039                  1\n",
       "11030                  0\n",
       "4006                   1\n",
       "31050                  0\n",
       "13069                  1\n",
       "...                  ...\n",
       "12002                  2\n",
       "19028                  2\n",
       "20007                  2\n",
       "13082                  2\n",
       "30088                  2\n",
       "\n",
       "[1813 rows x 1 columns]"
      ]
     },
     "execution_count": 105,
     "metadata": {},
     "output_type": "execute_result"
    }
   ],
   "source": [
    "#Trained data\n",
    "\n",
    "y_train"
   ]
  },
  {
   "cell_type": "markdown",
   "id": "c0edeeba",
   "metadata": {},
   "source": [
    "### Comparison with Random Forest\n",
    "\n",
    "A most commonly used approach is Random Forest, that combined the output of multiple decision trees to reach a prediction. It utilizes the bagging method and feature randomness, only selecting a subset of all possible features, to create an uncorrelated forest of decision trees."
   ]
  },
  {
   "cell_type": "code",
   "execution_count": null,
   "id": "3418f796",
   "metadata": {},
   "outputs": [
    {
     "name": "stderr",
     "output_type": "stream",
     "text": [
      "/home/horte/.local/lib/python3.10/site-packages/sklearn/base.py:1389: DataConversionWarning: A column-vector y was passed when a 1d array was expected. Please change the shape of y to (n_samples,), for example using ravel().\n",
      "  return fit_method(estimator, *args, **kwargs)\n"
     ]
    },
    {
     "name": "stdout",
     "output_type": "stream",
     "text": [
      "Accuracy: 0.5666666666666667\n",
      "\n",
      "Classification Report:\n",
      "               precision    recall  f1-score   support\n",
      "\n",
      "           0       0.62      0.72      0.67        93\n",
      "           1       0.54      0.64      0.59        67\n",
      "           2       0.41      0.18      0.25        50\n",
      "\n",
      "    accuracy                           0.57       210\n",
      "   macro avg       0.52      0.51      0.50       210\n",
      "weighted avg       0.54      0.57      0.54       210\n",
      "\n"
     ]
    },
    {
     "data": {
      "image/png": "[encoded data removed]",
      "text/plain": [
       "<Figure size 600x400 with 2 Axes>"
      ]
     },
     "metadata": {},
     "output_type": "display_data"
    }
   ],
   "source": [
    "\n",
    "# Define features and target\n",
    "X = X_labeled \n",
    "y = y\n",
    "\n",
    "# Enconding 'semaforo' label\n",
    "le = LabelEncoder()\n",
    "y_encoded = le.fit_transform(y)\n",
    "y_encoded = pd.DataFrame(y_encoded, index=X_labeled.index, columns=['semaforo_encoded'])\n",
    "\n",
    "# Train-test split\n",
    "X_train, X_test, y_train, y_test = train_test_split(X, y_encoded, test_size=0.2, random_state=42)\n",
    "\n",
    "# Training \n",
    "clf = RandomForestClassifier(n_estimators=100, random_state=42)\n",
    "clf.fit(X_train, y_train)\n",
    "\n",
    "# Predictions\n",
    "y_pred = clf.predict(X_test)\n",
    "\n",
    "# Testing\n",
    "print(\"Accuracy:\", accuracy_score(y_test, y_pred))\n",
    "print(\"\\nClassification Report:\\n\", classification_report(y_test, y_pred))\n",
    "\n",
    "# Confusion Matrix\n",
    "\n",
    "cm = confusion_matrix(y_test, y_pred)\n",
    "\n",
    "plt.figure(figsize=(6,4))\n",
    "sns.heatmap(cm, annot=True, fmt=\".2f\", cmap=\"Blues\", xticklabels=le.classes_, yticklabels=le.classes_)\n",
    "plt.xlabel(\"Predicted\")\n",
    "plt.ylabel(\"Actual\")\n",
    "plt.title(\"Confusion Matrix - Random Forest\")\n",
    "plt.show()"
   ]
  },
  {
   "cell_type": "code",
   "execution_count": 85,
   "id": "407f2924",
   "metadata": {},
   "outputs": [
    {
     "data": {
      "image/png": "[encoded data removed]",
      "text/plain": [
       "<Figure size 1000x400 with 1 Axes>"
      ]
     },
     "metadata": {},
     "output_type": "display_data"
    }
   ],
   "source": [
    "feature_importances = pd.Series(clf.feature_importances_, index=X.columns)\n",
    "feature_importances.sort_values(ascending=False).plot(kind=\"bar\", figsize=(10, 4), title=\"Feature Importances\")\n",
    "plt.show()"
   ]
  }
 ],
 "metadata": {
  "kernelspec": {
   "display_name": "Python 3",
   "language": "python",
   "name": "python3"
  },
  "language_info": {
   "codemirror_mode": {
    "name": "ipython",
    "version": 3
   },
   "file_extension": ".py",
   "mimetype": "text/x-python",
   "name": "python",
   "nbconvert_exporter": "python",
   "pygments_lexer": "ipython3",
   "version": "3.10.12"
  }
 },
 "nbformat": 4,
 "nbformat_minor": 5
}
